{
 "cells": [
  {
   "cell_type": "markdown",
   "metadata": {},
   "source": [
    "# Introduction to options"
   ]
  },
  {
   "cell_type": "markdown",
   "metadata": {},
   "source": [
    "[Option Basics](https://corporatefinanceinstitute.com/resources/knowledge/trading-investing/options-calls-and-puts/#:~:text=An%20option%20is%20a%20derivative,to%20buy%20or%20sell%20an)"
   ]
  },
  {
   "cell_type": "markdown",
   "metadata": {},
   "source": [
    "## Importing important libraries"
   ]
  },
  {
   "cell_type": "code",
   "execution_count": 23,
   "metadata": {},
   "outputs": [],
   "source": [
    "import pandas as pd\n",
    "import matplotlib.pyplot as plt\n",
    "import numpy as np\n",
    "\n",
    "from datetime import date\n",
    "\n",
    "\n",
    "import warnings\n",
    "warnings.filterwarnings(\"ignore\")\n",
    "\n",
    "# to fetch data \n",
    "import yfinance as yf"
   ]
  },
  {
   "cell_type": "markdown",
   "metadata": {},
   "source": [
    "## Importing options data"
   ]
  },
  {
   "cell_type": "code",
   "execution_count": 24,
   "metadata": {},
   "outputs": [],
   "source": [
    "symbol = 'AAPL'  #the ticker of the stock whose data is to be taken out\n",
    "dfo = yf.Ticker(symbol)"
   ]
  },
  {
   "cell_type": "code",
   "execution_count": 25,
   "metadata": {},
   "outputs": [
    {
     "output_type": "execute_result",
     "data": {
      "text/plain": [
       "('2021-06-18',\n",
       " '2021-06-25',\n",
       " '2021-07-02',\n",
       " '2021-07-09',\n",
       " '2021-07-16',\n",
       " '2021-07-23',\n",
       " '2021-08-20',\n",
       " '2021-09-17',\n",
       " '2021-10-15',\n",
       " '2021-11-19',\n",
       " '2021-12-17',\n",
       " '2022-01-21',\n",
       " '2022-06-17',\n",
       " '2022-09-16',\n",
       " '2023-01-20',\n",
       " '2023-03-17',\n",
       " '2023-06-16')"
      ]
     },
     "metadata": {},
     "execution_count": 25
    }
   ],
   "source": [
    "dfo.options  #to get the date of different expiration time"
   ]
  },
  {
   "cell_type": "code",
   "execution_count": 26,
   "metadata": {},
   "outputs": [],
   "source": [
    "dfo_exp = dfo.option_chain(dfo.options[1])  #to get data of next recent expiry date"
   ]
  },
  {
   "cell_type": "code",
   "execution_count": 27,
   "metadata": {},
   "outputs": [
    {
     "output_type": "execute_result",
     "data": {
      "text/plain": [
       "         contractSymbol       lastTradeDate  strike  lastPrice    bid    ask  \\\n",
       "0   AAPL210625C00065000 2021-05-20 13:35:29    65.0      60.60  62.05  62.65   \n",
       "1   AAPL210625C00075000 2021-06-11 15:54:35    75.0      52.01  52.30  52.40   \n",
       "2   AAPL210625C00080000 2021-06-10 18:26:26    80.0      46.20  47.30  47.40   \n",
       "3   AAPL210625C00085000 2021-06-04 18:51:14    85.0      41.15  42.30  42.40   \n",
       "4   AAPL210625C00090000 2021-06-11 18:08:48    90.0      37.33  37.30  37.45   \n",
       "5   AAPL210625C00095000 2021-06-04 18:35:16    95.0      30.97  32.35  32.45   \n",
       "6   AAPL210625C00100000 2021-06-10 14:31:58   100.0      27.05  27.35  27.45   \n",
       "7   AAPL210625C00105000 2021-06-10 14:05:59   105.0      22.80  22.35  22.50   \n",
       "8   AAPL210625C00109000 2021-06-04 14:44:53   109.0      16.20  18.40  18.50   \n",
       "9   AAPL210625C00110000 2021-06-11 16:56:26   110.0      17.20  17.40  17.50   \n",
       "10  AAPL210625C00111000 2021-06-10 13:41:10   111.0      16.65  16.40  16.50   \n",
       "11  AAPL210625C00112000 2021-06-11 15:14:41   112.0      14.76  15.40  15.50   \n",
       "12  AAPL210625C00113000 2021-06-11 16:05:17   113.0      14.21  14.40  14.55   \n",
       "13  AAPL210625C00114000 2021-06-11 13:42:58   114.0      12.90  13.40  13.50   \n",
       "14  AAPL210625C00115000 2021-06-11 16:55:58   115.0      12.15  12.45  12.55   \n",
       "15  AAPL210625C00116000 2021-06-11 17:57:10   116.0      11.49  11.45  11.55   \n",
       "16  AAPL210625C00117000 2021-06-10 17:56:40   117.0       9.55  10.45  10.55   \n",
       "17  AAPL210625C00118000 2021-06-11 19:41:52   118.0       9.25   9.50   9.60   \n",
       "18  AAPL210625C00119000 2021-06-11 18:57:47   119.0       8.55   8.50   8.60   \n",
       "19  AAPL210625C00120000 2021-06-11 19:11:09   120.0       7.49   7.55   7.65   \n",
       "20  AAPL210625C00121000 2021-06-11 19:57:09   121.0       6.52   6.60   6.70   \n",
       "21  AAPL210625C00122000 2021-06-11 19:51:39   122.0       5.60   5.70   5.80   \n",
       "22  AAPL210625C00123000 2021-06-11 19:52:35   123.0       4.70   4.85   4.90   \n",
       "23  AAPL210625C00124000 2021-06-11 19:32:11   124.0       4.00   4.00   4.10   \n",
       "24  AAPL210625C00125000 2021-06-11 19:58:30   125.0       3.26   3.25   3.30   \n",
       "25  AAPL210625C00126000 2021-06-11 19:57:20   126.0       2.58   2.57   2.61   \n",
       "26  AAPL210625C00127000 2021-06-11 19:59:49   127.0       1.99   1.98   2.00   \n",
       "27  AAPL210625C00128000 2021-06-11 19:59:51   128.0       1.46   1.48   1.50   \n",
       "28  AAPL210625C00129000 2021-06-11 19:59:04   129.0       1.05   1.07   1.10   \n",
       "29  AAPL210625C00130000 2021-06-11 19:59:29   130.0       0.76   0.76   0.78   \n",
       "30  AAPL210625C00131000 2021-06-11 19:59:26   131.0       0.52   0.53   0.54   \n",
       "31  AAPL210625C00132000 2021-06-11 19:59:47   132.0       0.37   0.37   0.38   \n",
       "32  AAPL210625C00133000 2021-06-11 19:58:50   133.0       0.26   0.26   0.27   \n",
       "33  AAPL210625C00134000 2021-06-11 19:54:12   134.0       0.20   0.18   0.20   \n",
       "34  AAPL210625C00135000 2021-06-11 19:59:52   135.0       0.13   0.13   0.14   \n",
       "35  AAPL210625C00136000 2021-06-11 19:48:22   136.0       0.10   0.10   0.11   \n",
       "36  AAPL210625C00137000 2021-06-11 19:43:17   137.0       0.08   0.08   0.09   \n",
       "37  AAPL210625C00138000 2021-06-11 18:56:25   138.0       0.06   0.06   0.07   \n",
       "38  AAPL210625C00139000 2021-06-11 19:39:45   139.0       0.05   0.05   0.06   \n",
       "39  AAPL210625C00140000 2021-06-11 19:32:04   140.0       0.04   0.04   0.05   \n",
       "40  AAPL210625C00141000 2021-06-11 14:56:47   141.0       0.04   0.03   0.05   \n",
       "41  AAPL210625C00142000 2021-06-11 16:15:26   142.0       0.05   0.03   0.04   \n",
       "42  AAPL210625C00143000 2021-06-10 18:54:40   143.0       0.03   0.03   0.04   \n",
       "43  AAPL210625C00145000 2021-06-11 19:43:32   145.0       0.04   0.03   0.04   \n",
       "44  AAPL210625C00150000 2021-06-11 19:08:23   150.0       0.02   0.01   0.02   \n",
       "45  AAPL210625C00155000 2021-06-11 19:20:41   155.0       0.02   0.01   0.02   \n",
       "46  AAPL210625C00160000 2021-06-11 15:54:13   160.0       0.01   0.00   0.02   \n",
       "47  AAPL210625C00165000 2021-06-11 15:54:23   165.0       0.01   0.00   0.01   \n",
       "48  AAPL210625C00170000 2021-06-09 17:37:31   170.0       0.01   0.00   0.02   \n",
       "49  AAPL210625C00175000 2021-06-07 15:07:32   175.0       0.01   0.00   0.01   \n",
       "50  AAPL210625C00180000 2021-06-07 18:32:17   180.0       0.01   0.00   0.01   \n",
       "\n",
       "      change  percentChange  volume  openInterest  impliedVolatility  \\\n",
       "0   0.000000       0.000000     NaN             1           0.500005   \n",
       "1   1.359997       2.685087    10.0            10           0.500005   \n",
       "2   0.000000       0.000000     6.0            10           0.500005   \n",
       "3   0.000000       0.000000    10.0            38           0.500005   \n",
       "4   0.580002       1.578236    26.0           455           0.695316   \n",
       "5   0.000000       0.000000    91.0           159           0.648441   \n",
       "6  -0.570002      -2.063728     1.0           105           0.546880   \n",
       "7   0.000000       0.000000     1.0            11           0.531255   \n",
       "8   0.000000       0.000000     2.0             2           0.443365   \n",
       "9  -0.449999      -2.549569    28.0            85           0.421881   \n",
       "10  0.000000       0.000000     4.0             4           0.400397   \n",
       "11 -0.639999      -4.155840     1.0             2           0.378912   \n",
       "12  0.730001       5.415434    20.0            24           0.377936   \n",
       "13  0.349999       2.788840     1.0            11           0.334968   \n",
       "14  0.559999       4.831747    23.0            51           0.333014   \n",
       "15  0.690000       6.388884     9.0            48           0.310554   \n",
       "16  0.000000       0.000000     6.0            70           0.287605   \n",
       "17  0.630000       7.308586    18.0           125           0.279304   \n",
       "18  0.850000      11.038966   665.0           249           0.255867   \n",
       "19  0.990000      15.230766   210.0           964           0.243172   \n",
       "20  0.670000      11.452993   192.0           609           0.228523   \n",
       "21  0.650000      13.131316    80.0           449           0.219734   \n",
       "22  0.600000      14.634144   150.0           718           0.206795   \n",
       "23  0.750000      23.076923   532.0           907           0.202889   \n",
       "24  0.630000      23.954367  1024.0          3713           0.192513   \n",
       "25  0.500000      24.038462  2014.0          2700           0.187752   \n",
       "26  0.390000      24.375000  2783.0          3454           0.183114   \n",
       "27  0.250000      20.661156  4717.0          5863           0.181161   \n",
       "28  0.140000      15.384607  2190.0          3792           0.180428   \n",
       "29  0.080000      11.764703  7869.0         14816           0.179452   \n",
       "30  0.020000       3.999996  2352.0         14876           0.179207   \n",
       "31  0.010000       2.777775  1734.0         10691           0.181893   \n",
       "32 -0.010000      -3.703711  1243.0          3364           0.186043   \n",
       "33  0.000000       0.000000   722.0          3393           0.192391   \n",
       "34 -0.030000     -18.750002  4199.0         11033           0.195809   \n",
       "35 -0.020000     -16.666664   402.0          2012           0.204110   \n",
       "36 -0.020000     -20.000004   314.0          2876           0.213875   \n",
       "37 -0.010000     -14.285716   136.0          6346           0.220711   \n",
       "38 -0.010000     -16.666664    41.0          1370           0.230476   \n",
       "39 -0.010000     -20.000004   355.0          3477           0.239265   \n",
       "40 -0.010000     -20.000004     1.0           544           0.253914   \n",
       "41  0.020000      66.666670    93.0          1022           0.259773   \n",
       "42  0.000000       0.000000    42.0           789           0.273445   \n",
       "43  0.010000      33.333336  2091.0          1616           0.302741   \n",
       "44  0.000000       0.000000   212.0          1505           0.339850   \n",
       "45  0.000000       0.000000     6.0          1994           0.398444   \n",
       "46  0.000000       0.000000    10.0           237           0.453130   \n",
       "47  0.000000       0.000000    10.0           242           0.468755   \n",
       "48  0.000000       0.000000    23.0           160           0.515630   \n",
       "49  0.000000       0.000000     5.0            55           0.531255   \n",
       "50  0.000000       0.000000     5.0           112           0.578129   \n",
       "\n",
       "    inTheMoney contractSize currency  \n",
       "0         True      REGULAR      USD  \n",
       "1         True      REGULAR      USD  \n",
       "2         True      REGULAR      USD  \n",
       "3         True      REGULAR      USD  \n",
       "4         True      REGULAR      USD  \n",
       "5         True      REGULAR      USD  \n",
       "6         True      REGULAR      USD  \n",
       "7         True      REGULAR      USD  \n",
       "8         True      REGULAR      USD  \n",
       "9         True      REGULAR      USD  \n",
       "10        True      REGULAR      USD  \n",
       "11        True      REGULAR      USD  \n",
       "12        True      REGULAR      USD  \n",
       "13        True      REGULAR      USD  \n",
       "14        True      REGULAR      USD  \n",
       "15        True      REGULAR      USD  \n",
       "16        True      REGULAR      USD  \n",
       "17        True      REGULAR      USD  \n",
       "18        True      REGULAR      USD  \n",
       "19        True      REGULAR      USD  \n",
       "20        True      REGULAR      USD  \n",
       "21        True      REGULAR      USD  \n",
       "22        True      REGULAR      USD  \n",
       "23        True      REGULAR      USD  \n",
       "24        True      REGULAR      USD  \n",
       "25        True      REGULAR      USD  \n",
       "26        True      REGULAR      USD  \n",
       "27       False      REGULAR      USD  \n",
       "28       False      REGULAR      USD  \n",
       "29       False      REGULAR      USD  \n",
       "30       False      REGULAR      USD  \n",
       "31       False      REGULAR      USD  \n",
       "32       False      REGULAR      USD  \n",
       "33       False      REGULAR      USD  \n",
       "34       False      REGULAR      USD  \n",
       "35       False      REGULAR      USD  \n",
       "36       False      REGULAR      USD  \n",
       "37       False      REGULAR      USD  \n",
       "38       False      REGULAR      USD  \n",
       "39       False      REGULAR      USD  \n",
       "40       False      REGULAR      USD  \n",
       "41       False      REGULAR      USD  \n",
       "42       False      REGULAR      USD  \n",
       "43       False      REGULAR      USD  \n",
       "44       False      REGULAR      USD  \n",
       "45       False      REGULAR      USD  \n",
       "46       False      REGULAR      USD  \n",
       "47       False      REGULAR      USD  \n",
       "48       False      REGULAR      USD  \n",
       "49       False      REGULAR      USD  \n",
       "50       False      REGULAR      USD  "
      ],
      "text/html": "<div>\n<style scoped>\n    .dataframe tbody tr th:only-of-type {\n        vertical-align: middle;\n    }\n\n    .dataframe tbody tr th {\n        vertical-align: top;\n    }\n\n    .dataframe thead th {\n        text-align: right;\n    }\n</style>\n<table border=\"1\" class=\"dataframe\">\n  <thead>\n    <tr style=\"text-align: right;\">\n      <th></th>\n      <th>contractSymbol</th>\n      <th>lastTradeDate</th>\n      <th>strike</th>\n      <th>lastPrice</th>\n      <th>bid</th>\n      <th>ask</th>\n      <th>change</th>\n      <th>percentChange</th>\n      <th>volume</th>\n      <th>openInterest</th>\n      <th>impliedVolatility</th>\n      <th>inTheMoney</th>\n      <th>contractSize</th>\n      <th>currency</th>\n    </tr>\n  </thead>\n  <tbody>\n    <tr>\n      <th>0</th>\n      <td>AAPL210625C00065000</td>\n      <td>2021-05-20 13:35:29</td>\n      <td>65.0</td>\n      <td>60.60</td>\n      <td>62.05</td>\n      <td>62.65</td>\n      <td>0.000000</td>\n      <td>0.000000</td>\n      <td>NaN</td>\n      <td>1</td>\n      <td>0.500005</td>\n      <td>True</td>\n      <td>REGULAR</td>\n      <td>USD</td>\n    </tr>\n    <tr>\n      <th>1</th>\n      <td>AAPL210625C00075000</td>\n      <td>2021-06-11 15:54:35</td>\n      <td>75.0</td>\n      <td>52.01</td>\n      <td>52.30</td>\n      <td>52.40</td>\n      <td>1.359997</td>\n      <td>2.685087</td>\n      <td>10.0</td>\n      <td>10</td>\n      <td>0.500005</td>\n      <td>True</td>\n      <td>REGULAR</td>\n      <td>USD</td>\n    </tr>\n    <tr>\n      <th>2</th>\n      <td>AAPL210625C00080000</td>\n      <td>2021-06-10 18:26:26</td>\n      <td>80.0</td>\n      <td>46.20</td>\n      <td>47.30</td>\n      <td>47.40</td>\n      <td>0.000000</td>\n      <td>0.000000</td>\n      <td>6.0</td>\n      <td>10</td>\n      <td>0.500005</td>\n      <td>True</td>\n      <td>REGULAR</td>\n      <td>USD</td>\n    </tr>\n    <tr>\n      <th>3</th>\n      <td>AAPL210625C00085000</td>\n      <td>2021-06-04 18:51:14</td>\n      <td>85.0</td>\n      <td>41.15</td>\n      <td>42.30</td>\n      <td>42.40</td>\n      <td>0.000000</td>\n      <td>0.000000</td>\n      <td>10.0</td>\n      <td>38</td>\n      <td>0.500005</td>\n      <td>True</td>\n      <td>REGULAR</td>\n      <td>USD</td>\n    </tr>\n    <tr>\n      <th>4</th>\n      <td>AAPL210625C00090000</td>\n      <td>2021-06-11 18:08:48</td>\n      <td>90.0</td>\n      <td>37.33</td>\n      <td>37.30</td>\n      <td>37.45</td>\n      <td>0.580002</td>\n      <td>1.578236</td>\n      <td>26.0</td>\n      <td>455</td>\n      <td>0.695316</td>\n      <td>True</td>\n      <td>REGULAR</td>\n      <td>USD</td>\n    </tr>\n    <tr>\n      <th>5</th>\n      <td>AAPL210625C00095000</td>\n      <td>2021-06-04 18:35:16</td>\n      <td>95.0</td>\n      <td>30.97</td>\n      <td>32.35</td>\n      <td>32.45</td>\n      <td>0.000000</td>\n      <td>0.000000</td>\n      <td>91.0</td>\n      <td>159</td>\n      <td>0.648441</td>\n      <td>True</td>\n      <td>REGULAR</td>\n      <td>USD</td>\n    </tr>\n    <tr>\n      <th>6</th>\n      <td>AAPL210625C00100000</td>\n      <td>2021-06-10 14:31:58</td>\n      <td>100.0</td>\n      <td>27.05</td>\n      <td>27.35</td>\n      <td>27.45</td>\n      <td>-0.570002</td>\n      <td>-2.063728</td>\n      <td>1.0</td>\n      <td>105</td>\n      <td>0.546880</td>\n      <td>True</td>\n      <td>REGULAR</td>\n      <td>USD</td>\n    </tr>\n    <tr>\n      <th>7</th>\n      <td>AAPL210625C00105000</td>\n      <td>2021-06-10 14:05:59</td>\n      <td>105.0</td>\n      <td>22.80</td>\n      <td>22.35</td>\n      <td>22.50</td>\n      <td>0.000000</td>\n      <td>0.000000</td>\n      <td>1.0</td>\n      <td>11</td>\n      <td>0.531255</td>\n      <td>True</td>\n      <td>REGULAR</td>\n      <td>USD</td>\n    </tr>\n    <tr>\n      <th>8</th>\n      <td>AAPL210625C00109000</td>\n      <td>2021-06-04 14:44:53</td>\n      <td>109.0</td>\n      <td>16.20</td>\n      <td>18.40</td>\n      <td>18.50</td>\n      <td>0.000000</td>\n      <td>0.000000</td>\n      <td>2.0</td>\n      <td>2</td>\n      <td>0.443365</td>\n      <td>True</td>\n      <td>REGULAR</td>\n      <td>USD</td>\n    </tr>\n    <tr>\n      <th>9</th>\n      <td>AAPL210625C00110000</td>\n      <td>2021-06-11 16:56:26</td>\n      <td>110.0</td>\n      <td>17.20</td>\n      <td>17.40</td>\n      <td>17.50</td>\n      <td>-0.449999</td>\n      <td>-2.549569</td>\n      <td>28.0</td>\n      <td>85</td>\n      <td>0.421881</td>\n      <td>True</td>\n      <td>REGULAR</td>\n      <td>USD</td>\n    </tr>\n    <tr>\n      <th>10</th>\n      <td>AAPL210625C00111000</td>\n      <td>2021-06-10 13:41:10</td>\n      <td>111.0</td>\n      <td>16.65</td>\n      <td>16.40</td>\n      <td>16.50</td>\n      <td>0.000000</td>\n      <td>0.000000</td>\n      <td>4.0</td>\n      <td>4</td>\n      <td>0.400397</td>\n      <td>True</td>\n      <td>REGULAR</td>\n      <td>USD</td>\n    </tr>\n    <tr>\n      <th>11</th>\n      <td>AAPL210625C00112000</td>\n      <td>2021-06-11 15:14:41</td>\n      <td>112.0</td>\n      <td>14.76</td>\n      <td>15.40</td>\n      <td>15.50</td>\n      <td>-0.639999</td>\n      <td>-4.155840</td>\n      <td>1.0</td>\n      <td>2</td>\n      <td>0.378912</td>\n      <td>True</td>\n      <td>REGULAR</td>\n      <td>USD</td>\n    </tr>\n    <tr>\n      <th>12</th>\n      <td>AAPL210625C00113000</td>\n      <td>2021-06-11 16:05:17</td>\n      <td>113.0</td>\n      <td>14.21</td>\n      <td>14.40</td>\n      <td>14.55</td>\n      <td>0.730001</td>\n      <td>5.415434</td>\n      <td>20.0</td>\n      <td>24</td>\n      <td>0.377936</td>\n      <td>True</td>\n      <td>REGULAR</td>\n      <td>USD</td>\n    </tr>\n    <tr>\n      <th>13</th>\n      <td>AAPL210625C00114000</td>\n      <td>2021-06-11 13:42:58</td>\n      <td>114.0</td>\n      <td>12.90</td>\n      <td>13.40</td>\n      <td>13.50</td>\n      <td>0.349999</td>\n      <td>2.788840</td>\n      <td>1.0</td>\n      <td>11</td>\n      <td>0.334968</td>\n      <td>True</td>\n      <td>REGULAR</td>\n      <td>USD</td>\n    </tr>\n    <tr>\n      <th>14</th>\n      <td>AAPL210625C00115000</td>\n      <td>2021-06-11 16:55:58</td>\n      <td>115.0</td>\n      <td>12.15</td>\n      <td>12.45</td>\n      <td>12.55</td>\n      <td>0.559999</td>\n      <td>4.831747</td>\n      <td>23.0</td>\n      <td>51</td>\n      <td>0.333014</td>\n      <td>True</td>\n      <td>REGULAR</td>\n      <td>USD</td>\n    </tr>\n    <tr>\n      <th>15</th>\n      <td>AAPL210625C00116000</td>\n      <td>2021-06-11 17:57:10</td>\n      <td>116.0</td>\n      <td>11.49</td>\n      <td>11.45</td>\n      <td>11.55</td>\n      <td>0.690000</td>\n      <td>6.388884</td>\n      <td>9.0</td>\n      <td>48</td>\n      <td>0.310554</td>\n      <td>True</td>\n      <td>REGULAR</td>\n      <td>USD</td>\n    </tr>\n    <tr>\n      <th>16</th>\n      <td>AAPL210625C00117000</td>\n      <td>2021-06-10 17:56:40</td>\n      <td>117.0</td>\n      <td>9.55</td>\n      <td>10.45</td>\n      <td>10.55</td>\n      <td>0.000000</td>\n      <td>0.000000</td>\n      <td>6.0</td>\n      <td>70</td>\n      <td>0.287605</td>\n      <td>True</td>\n      <td>REGULAR</td>\n      <td>USD</td>\n    </tr>\n    <tr>\n      <th>17</th>\n      <td>AAPL210625C00118000</td>\n      <td>2021-06-11 19:41:52</td>\n      <td>118.0</td>\n      <td>9.25</td>\n      <td>9.50</td>\n      <td>9.60</td>\n      <td>0.630000</td>\n      <td>7.308586</td>\n      <td>18.0</td>\n      <td>125</td>\n      <td>0.279304</td>\n      <td>True</td>\n      <td>REGULAR</td>\n      <td>USD</td>\n    </tr>\n    <tr>\n      <th>18</th>\n      <td>AAPL210625C00119000</td>\n      <td>2021-06-11 18:57:47</td>\n      <td>119.0</td>\n      <td>8.55</td>\n      <td>8.50</td>\n      <td>8.60</td>\n      <td>0.850000</td>\n      <td>11.038966</td>\n      <td>665.0</td>\n      <td>249</td>\n      <td>0.255867</td>\n      <td>True</td>\n      <td>REGULAR</td>\n      <td>USD</td>\n    </tr>\n    <tr>\n      <th>19</th>\n      <td>AAPL210625C00120000</td>\n      <td>2021-06-11 19:11:09</td>\n      <td>120.0</td>\n      <td>7.49</td>\n      <td>7.55</td>\n      <td>7.65</td>\n      <td>0.990000</td>\n      <td>15.230766</td>\n      <td>210.0</td>\n      <td>964</td>\n      <td>0.243172</td>\n      <td>True</td>\n      <td>REGULAR</td>\n      <td>USD</td>\n    </tr>\n    <tr>\n      <th>20</th>\n      <td>AAPL210625C00121000</td>\n      <td>2021-06-11 19:57:09</td>\n      <td>121.0</td>\n      <td>6.52</td>\n      <td>6.60</td>\n      <td>6.70</td>\n      <td>0.670000</td>\n      <td>11.452993</td>\n      <td>192.0</td>\n      <td>609</td>\n      <td>0.228523</td>\n      <td>True</td>\n      <td>REGULAR</td>\n      <td>USD</td>\n    </tr>\n    <tr>\n      <th>21</th>\n      <td>AAPL210625C00122000</td>\n      <td>2021-06-11 19:51:39</td>\n      <td>122.0</td>\n      <td>5.60</td>\n      <td>5.70</td>\n      <td>5.80</td>\n      <td>0.650000</td>\n      <td>13.131316</td>\n      <td>80.0</td>\n      <td>449</td>\n      <td>0.219734</td>\n      <td>True</td>\n      <td>REGULAR</td>\n      <td>USD</td>\n    </tr>\n    <tr>\n      <th>22</th>\n      <td>AAPL210625C00123000</td>\n      <td>2021-06-11 19:52:35</td>\n      <td>123.0</td>\n      <td>4.70</td>\n      <td>4.85</td>\n      <td>4.90</td>\n      <td>0.600000</td>\n      <td>14.634144</td>\n      <td>150.0</td>\n      <td>718</td>\n      <td>0.206795</td>\n      <td>True</td>\n      <td>REGULAR</td>\n      <td>USD</td>\n    </tr>\n    <tr>\n      <th>23</th>\n      <td>AAPL210625C00124000</td>\n      <td>2021-06-11 19:32:11</td>\n      <td>124.0</td>\n      <td>4.00</td>\n      <td>4.00</td>\n      <td>4.10</td>\n      <td>0.750000</td>\n      <td>23.076923</td>\n      <td>532.0</td>\n      <td>907</td>\n      <td>0.202889</td>\n      <td>True</td>\n      <td>REGULAR</td>\n      <td>USD</td>\n    </tr>\n    <tr>\n      <th>24</th>\n      <td>AAPL210625C00125000</td>\n      <td>2021-06-11 19:58:30</td>\n      <td>125.0</td>\n      <td>3.26</td>\n      <td>3.25</td>\n      <td>3.30</td>\n      <td>0.630000</td>\n      <td>23.954367</td>\n      <td>1024.0</td>\n      <td>3713</td>\n      <td>0.192513</td>\n      <td>True</td>\n      <td>REGULAR</td>\n      <td>USD</td>\n    </tr>\n    <tr>\n      <th>25</th>\n      <td>AAPL210625C00126000</td>\n      <td>2021-06-11 19:57:20</td>\n      <td>126.0</td>\n      <td>2.58</td>\n      <td>2.57</td>\n      <td>2.61</td>\n      <td>0.500000</td>\n      <td>24.038462</td>\n      <td>2014.0</td>\n      <td>2700</td>\n      <td>0.187752</td>\n      <td>True</td>\n      <td>REGULAR</td>\n      <td>USD</td>\n    </tr>\n    <tr>\n      <th>26</th>\n      <td>AAPL210625C00127000</td>\n      <td>2021-06-11 19:59:49</td>\n      <td>127.0</td>\n      <td>1.99</td>\n      <td>1.98</td>\n      <td>2.00</td>\n      <td>0.390000</td>\n      <td>24.375000</td>\n      <td>2783.0</td>\n      <td>3454</td>\n      <td>0.183114</td>\n      <td>True</td>\n      <td>REGULAR</td>\n      <td>USD</td>\n    </tr>\n    <tr>\n      <th>27</th>\n      <td>AAPL210625C00128000</td>\n      <td>2021-06-11 19:59:51</td>\n      <td>128.0</td>\n      <td>1.46</td>\n      <td>1.48</td>\n      <td>1.50</td>\n      <td>0.250000</td>\n      <td>20.661156</td>\n      <td>4717.0</td>\n      <td>5863</td>\n      <td>0.181161</td>\n      <td>False</td>\n      <td>REGULAR</td>\n      <td>USD</td>\n    </tr>\n    <tr>\n      <th>28</th>\n      <td>AAPL210625C00129000</td>\n      <td>2021-06-11 19:59:04</td>\n      <td>129.0</td>\n      <td>1.05</td>\n      <td>1.07</td>\n      <td>1.10</td>\n      <td>0.140000</td>\n      <td>15.384607</td>\n      <td>2190.0</td>\n      <td>3792</td>\n      <td>0.180428</td>\n      <td>False</td>\n      <td>REGULAR</td>\n      <td>USD</td>\n    </tr>\n    <tr>\n      <th>29</th>\n      <td>AAPL210625C00130000</td>\n      <td>2021-06-11 19:59:29</td>\n      <td>130.0</td>\n      <td>0.76</td>\n      <td>0.76</td>\n      <td>0.78</td>\n      <td>0.080000</td>\n      <td>11.764703</td>\n      <td>7869.0</td>\n      <td>14816</td>\n      <td>0.179452</td>\n      <td>False</td>\n      <td>REGULAR</td>\n      <td>USD</td>\n    </tr>\n    <tr>\n      <th>30</th>\n      <td>AAPL210625C00131000</td>\n      <td>2021-06-11 19:59:26</td>\n      <td>131.0</td>\n      <td>0.52</td>\n      <td>0.53</td>\n      <td>0.54</td>\n      <td>0.020000</td>\n      <td>3.999996</td>\n      <td>2352.0</td>\n      <td>14876</td>\n      <td>0.179207</td>\n      <td>False</td>\n      <td>REGULAR</td>\n      <td>USD</td>\n    </tr>\n    <tr>\n      <th>31</th>\n      <td>AAPL210625C00132000</td>\n      <td>2021-06-11 19:59:47</td>\n      <td>132.0</td>\n      <td>0.37</td>\n      <td>0.37</td>\n      <td>0.38</td>\n      <td>0.010000</td>\n      <td>2.777775</td>\n      <td>1734.0</td>\n      <td>10691</td>\n      <td>0.181893</td>\n      <td>False</td>\n      <td>REGULAR</td>\n      <td>USD</td>\n    </tr>\n    <tr>\n      <th>32</th>\n      <td>AAPL210625C00133000</td>\n      <td>2021-06-11 19:58:50</td>\n      <td>133.0</td>\n      <td>0.26</td>\n      <td>0.26</td>\n      <td>0.27</td>\n      <td>-0.010000</td>\n      <td>-3.703711</td>\n      <td>1243.0</td>\n      <td>3364</td>\n      <td>0.186043</td>\n      <td>False</td>\n      <td>REGULAR</td>\n      <td>USD</td>\n    </tr>\n    <tr>\n      <th>33</th>\n      <td>AAPL210625C00134000</td>\n      <td>2021-06-11 19:54:12</td>\n      <td>134.0</td>\n      <td>0.20</td>\n      <td>0.18</td>\n      <td>0.20</td>\n      <td>0.000000</td>\n      <td>0.000000</td>\n      <td>722.0</td>\n      <td>3393</td>\n      <td>0.192391</td>\n      <td>False</td>\n      <td>REGULAR</td>\n      <td>USD</td>\n    </tr>\n    <tr>\n      <th>34</th>\n      <td>AAPL210625C00135000</td>\n      <td>2021-06-11 19:59:52</td>\n      <td>135.0</td>\n      <td>0.13</td>\n      <td>0.13</td>\n      <td>0.14</td>\n      <td>-0.030000</td>\n      <td>-18.750002</td>\n      <td>4199.0</td>\n      <td>11033</td>\n      <td>0.195809</td>\n      <td>False</td>\n      <td>REGULAR</td>\n      <td>USD</td>\n    </tr>\n    <tr>\n      <th>35</th>\n      <td>AAPL210625C00136000</td>\n      <td>2021-06-11 19:48:22</td>\n      <td>136.0</td>\n      <td>0.10</td>\n      <td>0.10</td>\n      <td>0.11</td>\n      <td>-0.020000</td>\n      <td>-16.666664</td>\n      <td>402.0</td>\n      <td>2012</td>\n      <td>0.204110</td>\n      <td>False</td>\n      <td>REGULAR</td>\n      <td>USD</td>\n    </tr>\n    <tr>\n      <th>36</th>\n      <td>AAPL210625C00137000</td>\n      <td>2021-06-11 19:43:17</td>\n      <td>137.0</td>\n      <td>0.08</td>\n      <td>0.08</td>\n      <td>0.09</td>\n      <td>-0.020000</td>\n      <td>-20.000004</td>\n      <td>314.0</td>\n      <td>2876</td>\n      <td>0.213875</td>\n      <td>False</td>\n      <td>REGULAR</td>\n      <td>USD</td>\n    </tr>\n    <tr>\n      <th>37</th>\n      <td>AAPL210625C00138000</td>\n      <td>2021-06-11 18:56:25</td>\n      <td>138.0</td>\n      <td>0.06</td>\n      <td>0.06</td>\n      <td>0.07</td>\n      <td>-0.010000</td>\n      <td>-14.285716</td>\n      <td>136.0</td>\n      <td>6346</td>\n      <td>0.220711</td>\n      <td>False</td>\n      <td>REGULAR</td>\n      <td>USD</td>\n    </tr>\n    <tr>\n      <th>38</th>\n      <td>AAPL210625C00139000</td>\n      <td>2021-06-11 19:39:45</td>\n      <td>139.0</td>\n      <td>0.05</td>\n      <td>0.05</td>\n      <td>0.06</td>\n      <td>-0.010000</td>\n      <td>-16.666664</td>\n      <td>41.0</td>\n      <td>1370</td>\n      <td>0.230476</td>\n      <td>False</td>\n      <td>REGULAR</td>\n      <td>USD</td>\n    </tr>\n    <tr>\n      <th>39</th>\n      <td>AAPL210625C00140000</td>\n      <td>2021-06-11 19:32:04</td>\n      <td>140.0</td>\n      <td>0.04</td>\n      <td>0.04</td>\n      <td>0.05</td>\n      <td>-0.010000</td>\n      <td>-20.000004</td>\n      <td>355.0</td>\n      <td>3477</td>\n      <td>0.239265</td>\n      <td>False</td>\n      <td>REGULAR</td>\n      <td>USD</td>\n    </tr>\n    <tr>\n      <th>40</th>\n      <td>AAPL210625C00141000</td>\n      <td>2021-06-11 14:56:47</td>\n      <td>141.0</td>\n      <td>0.04</td>\n      <td>0.03</td>\n      <td>0.05</td>\n      <td>-0.010000</td>\n      <td>-20.000004</td>\n      <td>1.0</td>\n      <td>544</td>\n      <td>0.253914</td>\n      <td>False</td>\n      <td>REGULAR</td>\n      <td>USD</td>\n    </tr>\n    <tr>\n      <th>41</th>\n      <td>AAPL210625C00142000</td>\n      <td>2021-06-11 16:15:26</td>\n      <td>142.0</td>\n      <td>0.05</td>\n      <td>0.03</td>\n      <td>0.04</td>\n      <td>0.020000</td>\n      <td>66.666670</td>\n      <td>93.0</td>\n      <td>1022</td>\n      <td>0.259773</td>\n      <td>False</td>\n      <td>REGULAR</td>\n      <td>USD</td>\n    </tr>\n    <tr>\n      <th>42</th>\n      <td>AAPL210625C00143000</td>\n      <td>2021-06-10 18:54:40</td>\n      <td>143.0</td>\n      <td>0.03</td>\n      <td>0.03</td>\n      <td>0.04</td>\n      <td>0.000000</td>\n      <td>0.000000</td>\n      <td>42.0</td>\n      <td>789</td>\n      <td>0.273445</td>\n      <td>False</td>\n      <td>REGULAR</td>\n      <td>USD</td>\n    </tr>\n    <tr>\n      <th>43</th>\n      <td>AAPL210625C00145000</td>\n      <td>2021-06-11 19:43:32</td>\n      <td>145.0</td>\n      <td>0.04</td>\n      <td>0.03</td>\n      <td>0.04</td>\n      <td>0.010000</td>\n      <td>33.333336</td>\n      <td>2091.0</td>\n      <td>1616</td>\n      <td>0.302741</td>\n      <td>False</td>\n      <td>REGULAR</td>\n      <td>USD</td>\n    </tr>\n    <tr>\n      <th>44</th>\n      <td>AAPL210625C00150000</td>\n      <td>2021-06-11 19:08:23</td>\n      <td>150.0</td>\n      <td>0.02</td>\n      <td>0.01</td>\n      <td>0.02</td>\n      <td>0.000000</td>\n      <td>0.000000</td>\n      <td>212.0</td>\n      <td>1505</td>\n      <td>0.339850</td>\n      <td>False</td>\n      <td>REGULAR</td>\n      <td>USD</td>\n    </tr>\n    <tr>\n      <th>45</th>\n      <td>AAPL210625C00155000</td>\n      <td>2021-06-11 19:20:41</td>\n      <td>155.0</td>\n      <td>0.02</td>\n      <td>0.01</td>\n      <td>0.02</td>\n      <td>0.000000</td>\n      <td>0.000000</td>\n      <td>6.0</td>\n      <td>1994</td>\n      <td>0.398444</td>\n      <td>False</td>\n      <td>REGULAR</td>\n      <td>USD</td>\n    </tr>\n    <tr>\n      <th>46</th>\n      <td>AAPL210625C00160000</td>\n      <td>2021-06-11 15:54:13</td>\n      <td>160.0</td>\n      <td>0.01</td>\n      <td>0.00</td>\n      <td>0.02</td>\n      <td>0.000000</td>\n      <td>0.000000</td>\n      <td>10.0</td>\n      <td>237</td>\n      <td>0.453130</td>\n      <td>False</td>\n      <td>REGULAR</td>\n      <td>USD</td>\n    </tr>\n    <tr>\n      <th>47</th>\n      <td>AAPL210625C00165000</td>\n      <td>2021-06-11 15:54:23</td>\n      <td>165.0</td>\n      <td>0.01</td>\n      <td>0.00</td>\n      <td>0.01</td>\n      <td>0.000000</td>\n      <td>0.000000</td>\n      <td>10.0</td>\n      <td>242</td>\n      <td>0.468755</td>\n      <td>False</td>\n      <td>REGULAR</td>\n      <td>USD</td>\n    </tr>\n    <tr>\n      <th>48</th>\n      <td>AAPL210625C00170000</td>\n      <td>2021-06-09 17:37:31</td>\n      <td>170.0</td>\n      <td>0.01</td>\n      <td>0.00</td>\n      <td>0.02</td>\n      <td>0.000000</td>\n      <td>0.000000</td>\n      <td>23.0</td>\n      <td>160</td>\n      <td>0.515630</td>\n      <td>False</td>\n      <td>REGULAR</td>\n      <td>USD</td>\n    </tr>\n    <tr>\n      <th>49</th>\n      <td>AAPL210625C00175000</td>\n      <td>2021-06-07 15:07:32</td>\n      <td>175.0</td>\n      <td>0.01</td>\n      <td>0.00</td>\n      <td>0.01</td>\n      <td>0.000000</td>\n      <td>0.000000</td>\n      <td>5.0</td>\n      <td>55</td>\n      <td>0.531255</td>\n      <td>False</td>\n      <td>REGULAR</td>\n      <td>USD</td>\n    </tr>\n    <tr>\n      <th>50</th>\n      <td>AAPL210625C00180000</td>\n      <td>2021-06-07 18:32:17</td>\n      <td>180.0</td>\n      <td>0.01</td>\n      <td>0.00</td>\n      <td>0.01</td>\n      <td>0.000000</td>\n      <td>0.000000</td>\n      <td>5.0</td>\n      <td>112</td>\n      <td>0.578129</td>\n      <td>False</td>\n      <td>REGULAR</td>\n      <td>USD</td>\n    </tr>\n  </tbody>\n</table>\n</div>"
     },
     "metadata": {},
     "execution_count": 27
    }
   ],
   "source": [
    "dfo_exp.calls"
   ]
  },
  {
   "cell_type": "code",
   "execution_count": 28,
   "metadata": {},
   "outputs": [
    {
     "output_type": "execute_result",
     "data": {
      "text/plain": [
       "        contractSymbol       lastTradeDate  strike  lastPrice  bid   ask  \\\n",
       "0  AAPL210625P00065000 2021-06-03 16:18:53    65.0       0.02  0.0  0.02   \n",
       "1  AAPL210625P00070000 2021-06-02 17:47:30    70.0       0.02  0.0  0.02   \n",
       "2  AAPL210625P00075000 2021-06-07 16:54:58    75.0       0.01  0.0  0.01   \n",
       "3  AAPL210625P00080000 2021-06-09 18:19:05    80.0       0.01  0.0  0.01   \n",
       "4  AAPL210625P00085000 2021-06-07 17:34:25    85.0       0.02  0.0  0.02   \n",
       "\n",
       "   change  percentChange  volume  openInterest  impliedVolatility  inTheMoney  \\\n",
       "0     0.0            0.0     4.0           299           1.171879       False   \n",
       "1     0.0            0.0    10.0            25           1.046880       False   \n",
       "2     0.0            0.0     3.0            26           0.875001       False   \n",
       "3     0.0            0.0    20.0           347           0.781252       False   \n",
       "4     0.0            0.0   804.0           889           0.734378       False   \n",
       "\n",
       "  contractSize currency  \n",
       "0      REGULAR      USD  \n",
       "1      REGULAR      USD  \n",
       "2      REGULAR      USD  \n",
       "3      REGULAR      USD  \n",
       "4      REGULAR      USD  "
      ],
      "text/html": "<div>\n<style scoped>\n    .dataframe tbody tr th:only-of-type {\n        vertical-align: middle;\n    }\n\n    .dataframe tbody tr th {\n        vertical-align: top;\n    }\n\n    .dataframe thead th {\n        text-align: right;\n    }\n</style>\n<table border=\"1\" class=\"dataframe\">\n  <thead>\n    <tr style=\"text-align: right;\">\n      <th></th>\n      <th>contractSymbol</th>\n      <th>lastTradeDate</th>\n      <th>strike</th>\n      <th>lastPrice</th>\n      <th>bid</th>\n      <th>ask</th>\n      <th>change</th>\n      <th>percentChange</th>\n      <th>volume</th>\n      <th>openInterest</th>\n      <th>impliedVolatility</th>\n      <th>inTheMoney</th>\n      <th>contractSize</th>\n      <th>currency</th>\n    </tr>\n  </thead>\n  <tbody>\n    <tr>\n      <th>0</th>\n      <td>AAPL210625P00065000</td>\n      <td>2021-06-03 16:18:53</td>\n      <td>65.0</td>\n      <td>0.02</td>\n      <td>0.0</td>\n      <td>0.02</td>\n      <td>0.0</td>\n      <td>0.0</td>\n      <td>4.0</td>\n      <td>299</td>\n      <td>1.171879</td>\n      <td>False</td>\n      <td>REGULAR</td>\n      <td>USD</td>\n    </tr>\n    <tr>\n      <th>1</th>\n      <td>AAPL210625P00070000</td>\n      <td>2021-06-02 17:47:30</td>\n      <td>70.0</td>\n      <td>0.02</td>\n      <td>0.0</td>\n      <td>0.02</td>\n      <td>0.0</td>\n      <td>0.0</td>\n      <td>10.0</td>\n      <td>25</td>\n      <td>1.046880</td>\n      <td>False</td>\n      <td>REGULAR</td>\n      <td>USD</td>\n    </tr>\n    <tr>\n      <th>2</th>\n      <td>AAPL210625P00075000</td>\n      <td>2021-06-07 16:54:58</td>\n      <td>75.0</td>\n      <td>0.01</td>\n      <td>0.0</td>\n      <td>0.01</td>\n      <td>0.0</td>\n      <td>0.0</td>\n      <td>3.0</td>\n      <td>26</td>\n      <td>0.875001</td>\n      <td>False</td>\n      <td>REGULAR</td>\n      <td>USD</td>\n    </tr>\n    <tr>\n      <th>3</th>\n      <td>AAPL210625P00080000</td>\n      <td>2021-06-09 18:19:05</td>\n      <td>80.0</td>\n      <td>0.01</td>\n      <td>0.0</td>\n      <td>0.01</td>\n      <td>0.0</td>\n      <td>0.0</td>\n      <td>20.0</td>\n      <td>347</td>\n      <td>0.781252</td>\n      <td>False</td>\n      <td>REGULAR</td>\n      <td>USD</td>\n    </tr>\n    <tr>\n      <th>4</th>\n      <td>AAPL210625P00085000</td>\n      <td>2021-06-07 17:34:25</td>\n      <td>85.0</td>\n      <td>0.02</td>\n      <td>0.0</td>\n      <td>0.02</td>\n      <td>0.0</td>\n      <td>0.0</td>\n      <td>804.0</td>\n      <td>889</td>\n      <td>0.734378</td>\n      <td>False</td>\n      <td>REGULAR</td>\n      <td>USD</td>\n    </tr>\n  </tbody>\n</table>\n</div>"
     },
     "metadata": {},
     "execution_count": 28
    }
   ],
   "source": [
    "dfo_exp.puts.head()"
   ]
  },
  {
   "cell_type": "code",
   "execution_count": 29,
   "metadata": {},
   "outputs": [
    {
     "output_type": "stream",
     "name": "stdout",
     "text": [
      "[*********************100%***********************]  1 of 1 completed\n"
     ]
    },
    {
     "output_type": "execute_result",
     "data": {
      "text/plain": [
       "                  Open        High         Low       Close   Adj Close  \\\n",
       "Date                                                                     \n",
       "2021-06-07  126.169998  126.320000  124.830002  125.900002  125.900002   \n",
       "2021-06-08  126.599998  128.460007  126.209999  126.739998  126.739998   \n",
       "2021-06-09  127.209999  127.750000  126.519997  127.129997  127.129997   \n",
       "2021-06-10  127.019997  128.190002  125.940002  126.110001  126.110001   \n",
       "2021-06-11  126.529999  127.440002  126.099998  127.349998  127.349998   \n",
       "\n",
       "              Volume  \n",
       "Date                  \n",
       "2021-06-07  71057600  \n",
       "2021-06-08  74403800  \n",
       "2021-06-09  56877900  \n",
       "2021-06-10  71186400  \n",
       "2021-06-11  53415300  "
      ],
      "text/html": "<div>\n<style scoped>\n    .dataframe tbody tr th:only-of-type {\n        vertical-align: middle;\n    }\n\n    .dataframe tbody tr th {\n        vertical-align: top;\n    }\n\n    .dataframe thead th {\n        text-align: right;\n    }\n</style>\n<table border=\"1\" class=\"dataframe\">\n  <thead>\n    <tr style=\"text-align: right;\">\n      <th></th>\n      <th>Open</th>\n      <th>High</th>\n      <th>Low</th>\n      <th>Close</th>\n      <th>Adj Close</th>\n      <th>Volume</th>\n    </tr>\n    <tr>\n      <th>Date</th>\n      <th></th>\n      <th></th>\n      <th></th>\n      <th></th>\n      <th></th>\n      <th></th>\n    </tr>\n  </thead>\n  <tbody>\n    <tr>\n      <th>2021-06-07</th>\n      <td>126.169998</td>\n      <td>126.320000</td>\n      <td>124.830002</td>\n      <td>125.900002</td>\n      <td>125.900002</td>\n      <td>71057600</td>\n    </tr>\n    <tr>\n      <th>2021-06-08</th>\n      <td>126.599998</td>\n      <td>128.460007</td>\n      <td>126.209999</td>\n      <td>126.739998</td>\n      <td>126.739998</td>\n      <td>74403800</td>\n    </tr>\n    <tr>\n      <th>2021-06-09</th>\n      <td>127.209999</td>\n      <td>127.750000</td>\n      <td>126.519997</td>\n      <td>127.129997</td>\n      <td>127.129997</td>\n      <td>56877900</td>\n    </tr>\n    <tr>\n      <th>2021-06-10</th>\n      <td>127.019997</td>\n      <td>128.190002</td>\n      <td>125.940002</td>\n      <td>126.110001</td>\n      <td>126.110001</td>\n      <td>71186400</td>\n    </tr>\n    <tr>\n      <th>2021-06-11</th>\n      <td>126.529999</td>\n      <td>127.440002</td>\n      <td>126.099998</td>\n      <td>127.349998</td>\n      <td>127.349998</td>\n      <td>53415300</td>\n    </tr>\n  </tbody>\n</table>\n</div>"
     },
     "metadata": {},
     "execution_count": 29
    }
   ],
   "source": [
    "#run this tab to make you aware of the latest price of apple stock\n",
    "\n",
    "symbol = 'AAPL'\n",
    "end = date.today()\n",
    "start = end.replace(year = 2020)\n",
    "\n",
    "\n",
    "# Read data \n",
    "df = yf.download(symbol,start,end)\n",
    "\n",
    "df.tail()   "
   ]
  },
  {
   "cell_type": "markdown",
   "metadata": {},
   "source": [
    "## Payoff function"
   ]
  },
  {
   "cell_type": "markdown",
   "metadata": {},
   "source": [
    "### Call Option\n",
    "<center><I>payoff=max(-C, S - X - C)</I></center>"
   ]
  },
  {
   "cell_type": "markdown",
   "metadata": {},
   "source": [
    "### Put Option\n",
    "<center><I>payoff=max(-P, X - S - P)</I></center>"
   ]
  },
  {
   "cell_type": "markdown",
   "metadata": {},
   "source": [
    "P and C are premiums of calls and puts<br/>\n",
    "S is the stock price<br/>\n",
    "X is the strike price"
   ]
  },
  {
   "cell_type": "code",
   "execution_count": 30,
   "metadata": {},
   "outputs": [],
   "source": [
    "def payoff(option_type, premium, S, X):\n",
    "    \"\"\"\n",
    "    Calculates the payoff for call and put options.\n",
    "    \n",
    "    Parameters\n",
    "    ----------\n",
    "    option_type : char\n",
    "        C for call\n",
    "        P for put\n",
    "        \n",
    "    premium : float\n",
    "        the premium of call or put option\n",
    "        \n",
    "    S : float\n",
    "        Stock Price\n",
    "        \n",
    "    X : float\n",
    "        Strike Price\n",
    "    \n",
    "    Returns\n",
    "    -------\n",
    "    Payoff : float\n",
    "        The payoff of call and put options\n",
    "    \"\"\"\n",
    "    \n",
    "    #complete the payoff function for call and put\n",
    "    \n",
    "    if option_type == 'C':\n",
    "        Payoff=max(-premium, S - X - premium)\n",
    "        # if( S > X):\n",
    "        #     Payoff = S-X-premium\n",
    "        # else :\n",
    "        #     Payoff = -premium\n",
    "    elif option_type == 'P':\n",
    "        Payoff=max(-premium, X - S - premium)\n",
    "        # if( S < X):\n",
    "        #     Payoff = S-X-premium\n",
    "        # else :\n",
    "        #     Payoff = -premium\n",
    "    return Payoff"
   ]
  },
  {
   "cell_type": "code",
   "execution_count": 31,
   "metadata": {},
   "outputs": [
    {
     "output_type": "execute_result",
     "data": {
      "text/plain": [
       "10"
      ]
     },
     "metadata": {},
     "execution_count": 31
    }
   ],
   "source": [
    "payoff('C', 10, 120,100)  #answer displayed should be 10"
   ]
  },
  {
   "cell_type": "code",
   "execution_count": 32,
   "metadata": {},
   "outputs": [
    {
     "output_type": "execute_result",
     "data": {
      "text/plain": [
       "-10"
      ]
     },
     "metadata": {},
     "execution_count": 32
    }
   ],
   "source": [
    "payoff('P', 10, 120, 100)  #answer displayed should be -10"
   ]
  },
  {
   "cell_type": "code",
   "execution_count": 31,
   "metadata": {},
   "outputs": [],
   "source": [
    "#similarly you can check for various strike and stock price and different premiums"
   ]
  },
  {
   "cell_type": "markdown",
   "metadata": {},
   "source": [
    "## Payoff Graphs"
   ]
  },
  {
   "cell_type": "markdown",
   "metadata": {},
   "source": [
    "### Call Option"
   ]
  },
  {
   "cell_type": "code",
   "execution_count": 35,
   "metadata": {},
   "outputs": [
    {
     "output_type": "execute_result",
     "data": {
      "text/plain": [
       "52.01"
      ]
     },
     "metadata": {},
     "execution_count": 35
    }
   ],
   "source": [
    "dfo_exp.calls.loc[dfo_exp.calls['strike']==75, 'lastPrice'].values[0]"
   ]
  },
  {
   "cell_type": "code",
   "execution_count": 43,
   "metadata": {},
   "outputs": [
    {
     "output_type": "execute_result",
     "data": {
      "text/plain": [
       "27.05"
      ]
     },
     "metadata": {},
     "execution_count": 43
    }
   ],
   "source": [
    "X = 100  #strike price  \n",
    "premium = dfo_exp.calls.loc[dfo_exp.calls['strike']==X, 'lastPrice'].values[0]  #to get the corresponding premium\n",
    "premium"
   ]
  },
  {
   "cell_type": "code",
   "execution_count": 39,
   "metadata": {},
   "outputs": [
    {
     "output_type": "execute_result",
     "data": {
      "text/plain": [
       "array([  0,   1,   2,   3,   4,   5,   6,   7,   8,   9,  10,  11,  12,\n",
       "        13,  14,  15,  16,  17,  18,  19,  20,  21,  22,  23,  24,  25,\n",
       "        26,  27,  28,  29,  30,  31,  32,  33,  34,  35,  36,  37,  38,\n",
       "        39,  40,  41,  42,  43,  44,  45,  46,  47,  48,  49,  50,  51,\n",
       "        52,  53,  54,  55,  56,  57,  58,  59,  60,  61,  62,  63,  64,\n",
       "        65,  66,  67,  68,  69,  70,  71,  72,  73,  74,  75,  76,  77,\n",
       "        78,  79,  80,  81,  82,  83,  84,  85,  86,  87,  88,  89,  90,\n",
       "        91,  92,  93,  94,  95,  96,  97,  98,  99, 100, 101, 102, 103,\n",
       "       104, 105, 106, 107, 108, 109, 110, 111, 112, 113, 114, 115, 116,\n",
       "       117, 118, 119, 120, 121, 122, 123, 124, 125, 126, 127, 128, 129,\n",
       "       130, 131, 132, 133, 134, 135, 136, 137, 138, 139, 140, 141, 142,\n",
       "       143, 144, 145, 146, 147, 148, 149, 150, 151, 152, 153, 154, 155,\n",
       "       156, 157, 158, 159, 160, 161, 162, 163, 164, 165, 166, 167, 168,\n",
       "       169, 170, 171, 172, 173, 174, 175, 176, 177, 178, 179, 180, 181,\n",
       "       182, 183, 184, 185, 186, 187, 188, 189, 190, 191, 192, 193, 194,\n",
       "       195, 196, 197, 198, 199])"
      ]
     },
     "metadata": {},
     "execution_count": 39
    }
   ],
   "source": [
    "StockPrice"
   ]
  },
  {
   "cell_type": "code",
   "execution_count": 45,
   "metadata": {},
   "outputs": [],
   "source": [
    "Payoff = []\n",
    "StockPrice = np.arange(0, 200)  \n",
    "\n",
    "#calculate a payoff list/array of call option for every stock_price in StockPrice and let the premium be premium\n",
    "#and strike price be X as calculated in the previous cell\n",
    "for i in StockPrice:\n",
    "    h = payoff('C', premium, i , 100)\n",
    "    Payoff.append(h)   "
   ]
  },
  {
   "cell_type": "code",
   "execution_count": 47,
   "metadata": {},
   "outputs": [
    {
     "output_type": "execute_result",
     "data": {
      "text/plain": [
       "<matplotlib.legend.Legend at 0x7f07e5404e10>"
      ]
     },
     "metadata": {},
     "execution_count": 47
    },
    {
     "output_type": "display_data",
     "data": {
      "text/plain": "<Figure size 432x288 with 1 Axes>",
      "image/svg+xml": "<?xml version=\"1.0\" encoding=\"utf-8\" standalone=\"no\"?>\n<!DOCTYPE svg PUBLIC \"-//W3C//DTD SVG 1.1//EN\"\n  \"http://www.w3.org/Graphics/SVG/1.1/DTD/svg11.dtd\">\n<!-- Created with matplotlib (https://matplotlib.org/) -->\n<svg height=\"277.314375pt\" version=\"1.1\" viewBox=\"0 0 390.982812 277.314375\" width=\"390.982812pt\" xmlns=\"http://www.w3.org/2000/svg\" xmlns:xlink=\"http://www.w3.org/1999/xlink\">\n <metadata>\n  <rdf:RDF xmlns:cc=\"http://creativecommons.org/ns#\" xmlns:dc=\"http://purl.org/dc/elements/1.1/\" xmlns:rdf=\"http://www.w3.org/1999/02/22-rdf-syntax-ns#\">\n   <cc:Work>\n    <dc:type rdf:resource=\"http://purl.org/dc/dcmitype/StillImage\"/>\n    <dc:date>2021-06-12T11:00:27.976135</dc:date>\n    <dc:format>image/svg+xml</dc:format>\n    <dc:creator>\n     <cc:Agent>\n      <dc:title>Matplotlib v3.3.4, https://matplotlib.org/</dc:title>\n     </cc:Agent>\n    </dc:creator>\n   </cc:Work>\n  </rdf:RDF>\n </metadata>\n <defs>\n  <style type=\"text/css\">*{stroke-linecap:butt;stroke-linejoin:round;}</style>\n </defs>\n <g id=\"figure_1\">\n  <g id=\"patch_1\">\n   <path d=\"M 0 277.314375 \nL 390.982812 277.314375 \nL 390.982812 0 \nL 0 0 \nz\n\" style=\"fill:none;\"/>\n  </g>\n  <g id=\"axes_1\">\n   <g id=\"patch_2\">\n    <path d=\"M 48.982813 239.758125 \nL 383.782813 239.758125 \nL 383.782813 22.318125 \nL 48.982813 22.318125 \nz\n\" style=\"fill:#ffffff;\"/>\n   </g>\n   <g id=\"matplotlib.axis_1\">\n    <g id=\"xtick_1\">\n     <g id=\"line2d_1\">\n      <path clip-path=\"url(#p028c1741e2)\" d=\"M 64.200994 239.758125 \nL 64.200994 22.318125 \n\" style=\"fill:none;stroke:#b0b0b0;stroke-linecap:square;stroke-width:0.8;\"/>\n     </g>\n     <g id=\"line2d_2\">\n      <defs>\n       <path d=\"M 0 0 \nL 0 3.5 \n\" id=\"m4ca2de0859\" style=\"stroke:#000000;stroke-width:0.8;\"/>\n      </defs>\n      <g>\n       <use style=\"stroke:#000000;stroke-width:0.8;\" x=\"64.200994\" xlink:href=\"#m4ca2de0859\" y=\"239.758125\"/>\n      </g>\n     </g>\n     <g id=\"text_1\">\n      <!-- 0 -->\n      <g transform=\"translate(61.019744 254.356562)scale(0.1 -0.1)\">\n       <defs>\n        <path d=\"M 31.78125 66.40625 \nQ 24.171875 66.40625 20.328125 58.90625 \nQ 16.5 51.421875 16.5 36.375 \nQ 16.5 21.390625 20.328125 13.890625 \nQ 24.171875 6.390625 31.78125 6.390625 \nQ 39.453125 6.390625 43.28125 13.890625 \nQ 47.125 21.390625 47.125 36.375 \nQ 47.125 51.421875 43.28125 58.90625 \nQ 39.453125 66.40625 31.78125 66.40625 \nz\nM 31.78125 74.21875 \nQ 44.046875 74.21875 50.515625 64.515625 \nQ 56.984375 54.828125 56.984375 36.375 \nQ 56.984375 17.96875 50.515625 8.265625 \nQ 44.046875 -1.421875 31.78125 -1.421875 \nQ 19.53125 -1.421875 13.0625 8.265625 \nQ 6.59375 17.96875 6.59375 36.375 \nQ 6.59375 54.828125 13.0625 64.515625 \nQ 19.53125 74.21875 31.78125 74.21875 \nz\n\" id=\"DejaVuSans-48\"/>\n       </defs>\n       <use xlink:href=\"#DejaVuSans-48\"/>\n      </g>\n     </g>\n    </g>\n    <g id=\"xtick_2\">\n     <g id=\"line2d_3\">\n      <path clip-path=\"url(#p028c1741e2)\" d=\"M 102.437632 239.758125 \nL 102.437632 22.318125 \n\" style=\"fill:none;stroke:#b0b0b0;stroke-linecap:square;stroke-width:0.8;\"/>\n     </g>\n     <g id=\"line2d_4\">\n      <g>\n       <use style=\"stroke:#000000;stroke-width:0.8;\" x=\"102.437632\" xlink:href=\"#m4ca2de0859\" y=\"239.758125\"/>\n      </g>\n     </g>\n     <g id=\"text_2\">\n      <!-- 25 -->\n      <g transform=\"translate(96.075132 254.356562)scale(0.1 -0.1)\">\n       <defs>\n        <path d=\"M 19.1875 8.296875 \nL 53.609375 8.296875 \nL 53.609375 0 \nL 7.328125 0 \nL 7.328125 8.296875 \nQ 12.9375 14.109375 22.625 23.890625 \nQ 32.328125 33.6875 34.8125 36.53125 \nQ 39.546875 41.84375 41.421875 45.53125 \nQ 43.3125 49.21875 43.3125 52.78125 \nQ 43.3125 58.59375 39.234375 62.25 \nQ 35.15625 65.921875 28.609375 65.921875 \nQ 23.96875 65.921875 18.8125 64.3125 \nQ 13.671875 62.703125 7.8125 59.421875 \nL 7.8125 69.390625 \nQ 13.765625 71.78125 18.9375 73 \nQ 24.125 74.21875 28.421875 74.21875 \nQ 39.75 74.21875 46.484375 68.546875 \nQ 53.21875 62.890625 53.21875 53.421875 \nQ 53.21875 48.921875 51.53125 44.890625 \nQ 49.859375 40.875 45.40625 35.40625 \nQ 44.1875 33.984375 37.640625 27.21875 \nQ 31.109375 20.453125 19.1875 8.296875 \nz\n\" id=\"DejaVuSans-50\"/>\n        <path d=\"M 10.796875 72.90625 \nL 49.515625 72.90625 \nL 49.515625 64.59375 \nL 19.828125 64.59375 \nL 19.828125 46.734375 \nQ 21.96875 47.46875 24.109375 47.828125 \nQ 26.265625 48.1875 28.421875 48.1875 \nQ 40.625 48.1875 47.75 41.5 \nQ 54.890625 34.8125 54.890625 23.390625 \nQ 54.890625 11.625 47.5625 5.09375 \nQ 40.234375 -1.421875 26.90625 -1.421875 \nQ 22.3125 -1.421875 17.546875 -0.640625 \nQ 12.796875 0.140625 7.71875 1.703125 \nL 7.71875 11.625 \nQ 12.109375 9.234375 16.796875 8.0625 \nQ 21.484375 6.890625 26.703125 6.890625 \nQ 35.15625 6.890625 40.078125 11.328125 \nQ 45.015625 15.765625 45.015625 23.390625 \nQ 45.015625 31 40.078125 35.4375 \nQ 35.15625 39.890625 26.703125 39.890625 \nQ 22.75 39.890625 18.8125 39.015625 \nQ 14.890625 38.140625 10.796875 36.28125 \nz\n\" id=\"DejaVuSans-53\"/>\n       </defs>\n       <use xlink:href=\"#DejaVuSans-50\"/>\n       <use x=\"63.623047\" xlink:href=\"#DejaVuSans-53\"/>\n      </g>\n     </g>\n    </g>\n    <g id=\"xtick_3\">\n     <g id=\"line2d_5\">\n      <path clip-path=\"url(#p028c1741e2)\" d=\"M 140.67427 239.758125 \nL 140.67427 22.318125 \n\" style=\"fill:none;stroke:#b0b0b0;stroke-linecap:square;stroke-width:0.8;\"/>\n     </g>\n     <g id=\"line2d_6\">\n      <g>\n       <use style=\"stroke:#000000;stroke-width:0.8;\" x=\"140.67427\" xlink:href=\"#m4ca2de0859\" y=\"239.758125\"/>\n      </g>\n     </g>\n     <g id=\"text_3\">\n      <!-- 50 -->\n      <g transform=\"translate(134.31177 254.356562)scale(0.1 -0.1)\">\n       <use xlink:href=\"#DejaVuSans-53\"/>\n       <use x=\"63.623047\" xlink:href=\"#DejaVuSans-48\"/>\n      </g>\n     </g>\n    </g>\n    <g id=\"xtick_4\">\n     <g id=\"line2d_7\">\n      <path clip-path=\"url(#p028c1741e2)\" d=\"M 178.910908 239.758125 \nL 178.910908 22.318125 \n\" style=\"fill:none;stroke:#b0b0b0;stroke-linecap:square;stroke-width:0.8;\"/>\n     </g>\n     <g id=\"line2d_8\">\n      <g>\n       <use style=\"stroke:#000000;stroke-width:0.8;\" x=\"178.910908\" xlink:href=\"#m4ca2de0859\" y=\"239.758125\"/>\n      </g>\n     </g>\n     <g id=\"text_4\">\n      <!-- 75 -->\n      <g transform=\"translate(172.548408 254.356562)scale(0.1 -0.1)\">\n       <defs>\n        <path d=\"M 8.203125 72.90625 \nL 55.078125 72.90625 \nL 55.078125 68.703125 \nL 28.609375 0 \nL 18.3125 0 \nL 43.21875 64.59375 \nL 8.203125 64.59375 \nz\n\" id=\"DejaVuSans-55\"/>\n       </defs>\n       <use xlink:href=\"#DejaVuSans-55\"/>\n       <use x=\"63.623047\" xlink:href=\"#DejaVuSans-53\"/>\n      </g>\n     </g>\n    </g>\n    <g id=\"xtick_5\">\n     <g id=\"line2d_9\">\n      <path clip-path=\"url(#p028c1741e2)\" d=\"M 217.147545 239.758125 \nL 217.147545 22.318125 \n\" style=\"fill:none;stroke:#b0b0b0;stroke-linecap:square;stroke-width:0.8;\"/>\n     </g>\n     <g id=\"line2d_10\">\n      <g>\n       <use style=\"stroke:#000000;stroke-width:0.8;\" x=\"217.147545\" xlink:href=\"#m4ca2de0859\" y=\"239.758125\"/>\n      </g>\n     </g>\n     <g id=\"text_5\">\n      <!-- 100 -->\n      <g transform=\"translate(207.603795 254.356562)scale(0.1 -0.1)\">\n       <defs>\n        <path d=\"M 12.40625 8.296875 \nL 28.515625 8.296875 \nL 28.515625 63.921875 \nL 10.984375 60.40625 \nL 10.984375 69.390625 \nL 28.421875 72.90625 \nL 38.28125 72.90625 \nL 38.28125 8.296875 \nL 54.390625 8.296875 \nL 54.390625 0 \nL 12.40625 0 \nz\n\" id=\"DejaVuSans-49\"/>\n       </defs>\n       <use xlink:href=\"#DejaVuSans-49\"/>\n       <use x=\"63.623047\" xlink:href=\"#DejaVuSans-48\"/>\n       <use x=\"127.246094\" xlink:href=\"#DejaVuSans-48\"/>\n      </g>\n     </g>\n    </g>\n    <g id=\"xtick_6\">\n     <g id=\"line2d_11\">\n      <path clip-path=\"url(#p028c1741e2)\" d=\"M 255.384183 239.758125 \nL 255.384183 22.318125 \n\" style=\"fill:none;stroke:#b0b0b0;stroke-linecap:square;stroke-width:0.8;\"/>\n     </g>\n     <g id=\"line2d_12\">\n      <g>\n       <use style=\"stroke:#000000;stroke-width:0.8;\" x=\"255.384183\" xlink:href=\"#m4ca2de0859\" y=\"239.758125\"/>\n      </g>\n     </g>\n     <g id=\"text_6\">\n      <!-- 125 -->\n      <g transform=\"translate(245.840433 254.356562)scale(0.1 -0.1)\">\n       <use xlink:href=\"#DejaVuSans-49\"/>\n       <use x=\"63.623047\" xlink:href=\"#DejaVuSans-50\"/>\n       <use x=\"127.246094\" xlink:href=\"#DejaVuSans-53\"/>\n      </g>\n     </g>\n    </g>\n    <g id=\"xtick_7\">\n     <g id=\"line2d_13\">\n      <path clip-path=\"url(#p028c1741e2)\" d=\"M 293.620821 239.758125 \nL 293.620821 22.318125 \n\" style=\"fill:none;stroke:#b0b0b0;stroke-linecap:square;stroke-width:0.8;\"/>\n     </g>\n     <g id=\"line2d_14\">\n      <g>\n       <use style=\"stroke:#000000;stroke-width:0.8;\" x=\"293.620821\" xlink:href=\"#m4ca2de0859\" y=\"239.758125\"/>\n      </g>\n     </g>\n     <g id=\"text_7\">\n      <!-- 150 -->\n      <g transform=\"translate(284.077071 254.356562)scale(0.1 -0.1)\">\n       <use xlink:href=\"#DejaVuSans-49\"/>\n       <use x=\"63.623047\" xlink:href=\"#DejaVuSans-53\"/>\n       <use x=\"127.246094\" xlink:href=\"#DejaVuSans-48\"/>\n      </g>\n     </g>\n    </g>\n    <g id=\"xtick_8\">\n     <g id=\"line2d_15\">\n      <path clip-path=\"url(#p028c1741e2)\" d=\"M 331.857458 239.758125 \nL 331.857458 22.318125 \n\" style=\"fill:none;stroke:#b0b0b0;stroke-linecap:square;stroke-width:0.8;\"/>\n     </g>\n     <g id=\"line2d_16\">\n      <g>\n       <use style=\"stroke:#000000;stroke-width:0.8;\" x=\"331.857458\" xlink:href=\"#m4ca2de0859\" y=\"239.758125\"/>\n      </g>\n     </g>\n     <g id=\"text_8\">\n      <!-- 175 -->\n      <g transform=\"translate(322.313708 254.356562)scale(0.1 -0.1)\">\n       <use xlink:href=\"#DejaVuSans-49\"/>\n       <use x=\"63.623047\" xlink:href=\"#DejaVuSans-55\"/>\n       <use x=\"127.246094\" xlink:href=\"#DejaVuSans-53\"/>\n      </g>\n     </g>\n    </g>\n    <g id=\"xtick_9\">\n     <g id=\"line2d_17\">\n      <path clip-path=\"url(#p028c1741e2)\" d=\"M 370.094096 239.758125 \nL 370.094096 22.318125 \n\" style=\"fill:none;stroke:#b0b0b0;stroke-linecap:square;stroke-width:0.8;\"/>\n     </g>\n     <g id=\"line2d_18\">\n      <g>\n       <use style=\"stroke:#000000;stroke-width:0.8;\" x=\"370.094096\" xlink:href=\"#m4ca2de0859\" y=\"239.758125\"/>\n      </g>\n     </g>\n     <g id=\"text_9\">\n      <!-- 200 -->\n      <g transform=\"translate(360.550346 254.356562)scale(0.1 -0.1)\">\n       <use xlink:href=\"#DejaVuSans-50\"/>\n       <use x=\"63.623047\" xlink:href=\"#DejaVuSans-48\"/>\n       <use x=\"127.246094\" xlink:href=\"#DejaVuSans-48\"/>\n      </g>\n     </g>\n    </g>\n    <g id=\"text_10\">\n     <!-- Stock Price -->\n     <g transform=\"translate(188.757812 268.034687)scale(0.1 -0.1)\">\n      <defs>\n       <path d=\"M 53.515625 70.515625 \nL 53.515625 60.890625 \nQ 47.90625 63.578125 42.921875 64.890625 \nQ 37.9375 66.21875 33.296875 66.21875 \nQ 25.25 66.21875 20.875 63.09375 \nQ 16.5 59.96875 16.5 54.203125 \nQ 16.5 49.359375 19.40625 46.890625 \nQ 22.3125 44.4375 30.421875 42.921875 \nL 36.375 41.703125 \nQ 47.40625 39.59375 52.65625 34.296875 \nQ 57.90625 29 57.90625 20.125 \nQ 57.90625 9.515625 50.796875 4.046875 \nQ 43.703125 -1.421875 29.984375 -1.421875 \nQ 24.8125 -1.421875 18.96875 -0.25 \nQ 13.140625 0.921875 6.890625 3.21875 \nL 6.890625 13.375 \nQ 12.890625 10.015625 18.65625 8.296875 \nQ 24.421875 6.59375 29.984375 6.59375 \nQ 38.421875 6.59375 43.015625 9.90625 \nQ 47.609375 13.234375 47.609375 19.390625 \nQ 47.609375 24.75 44.3125 27.78125 \nQ 41.015625 30.8125 33.5 32.328125 \nL 27.484375 33.5 \nQ 16.453125 35.6875 11.515625 40.375 \nQ 6.59375 45.0625 6.59375 53.421875 \nQ 6.59375 63.09375 13.40625 68.65625 \nQ 20.21875 74.21875 32.171875 74.21875 \nQ 37.3125 74.21875 42.625 73.28125 \nQ 47.953125 72.359375 53.515625 70.515625 \nz\n\" id=\"DejaVuSans-83\"/>\n       <path d=\"M 18.3125 70.21875 \nL 18.3125 54.6875 \nL 36.8125 54.6875 \nL 36.8125 47.703125 \nL 18.3125 47.703125 \nL 18.3125 18.015625 \nQ 18.3125 11.328125 20.140625 9.421875 \nQ 21.96875 7.515625 27.59375 7.515625 \nL 36.8125 7.515625 \nL 36.8125 0 \nL 27.59375 0 \nQ 17.1875 0 13.234375 3.875 \nQ 9.28125 7.765625 9.28125 18.015625 \nL 9.28125 47.703125 \nL 2.6875 47.703125 \nL 2.6875 54.6875 \nL 9.28125 54.6875 \nL 9.28125 70.21875 \nz\n\" id=\"DejaVuSans-116\"/>\n       <path d=\"M 30.609375 48.390625 \nQ 23.390625 48.390625 19.1875 42.75 \nQ 14.984375 37.109375 14.984375 27.296875 \nQ 14.984375 17.484375 19.15625 11.84375 \nQ 23.34375 6.203125 30.609375 6.203125 \nQ 37.796875 6.203125 41.984375 11.859375 \nQ 46.1875 17.53125 46.1875 27.296875 \nQ 46.1875 37.015625 41.984375 42.703125 \nQ 37.796875 48.390625 30.609375 48.390625 \nz\nM 30.609375 56 \nQ 42.328125 56 49.015625 48.375 \nQ 55.71875 40.765625 55.71875 27.296875 \nQ 55.71875 13.875 49.015625 6.21875 \nQ 42.328125 -1.421875 30.609375 -1.421875 \nQ 18.84375 -1.421875 12.171875 6.21875 \nQ 5.515625 13.875 5.515625 27.296875 \nQ 5.515625 40.765625 12.171875 48.375 \nQ 18.84375 56 30.609375 56 \nz\n\" id=\"DejaVuSans-111\"/>\n       <path d=\"M 48.78125 52.59375 \nL 48.78125 44.1875 \nQ 44.96875 46.296875 41.140625 47.34375 \nQ 37.3125 48.390625 33.40625 48.390625 \nQ 24.65625 48.390625 19.8125 42.84375 \nQ 14.984375 37.3125 14.984375 27.296875 \nQ 14.984375 17.28125 19.8125 11.734375 \nQ 24.65625 6.203125 33.40625 6.203125 \nQ 37.3125 6.203125 41.140625 7.25 \nQ 44.96875 8.296875 48.78125 10.40625 \nL 48.78125 2.09375 \nQ 45.015625 0.34375 40.984375 -0.53125 \nQ 36.96875 -1.421875 32.421875 -1.421875 \nQ 20.0625 -1.421875 12.78125 6.34375 \nQ 5.515625 14.109375 5.515625 27.296875 \nQ 5.515625 40.671875 12.859375 48.328125 \nQ 20.21875 56 33.015625 56 \nQ 37.15625 56 41.109375 55.140625 \nQ 45.0625 54.296875 48.78125 52.59375 \nz\n\" id=\"DejaVuSans-99\"/>\n       <path d=\"M 9.078125 75.984375 \nL 18.109375 75.984375 \nL 18.109375 31.109375 \nL 44.921875 54.6875 \nL 56.390625 54.6875 \nL 27.390625 29.109375 \nL 57.625 0 \nL 45.90625 0 \nL 18.109375 26.703125 \nL 18.109375 0 \nL 9.078125 0 \nz\n\" id=\"DejaVuSans-107\"/>\n       <path id=\"DejaVuSans-32\"/>\n       <path d=\"M 19.671875 64.796875 \nL 19.671875 37.40625 \nL 32.078125 37.40625 \nQ 38.96875 37.40625 42.71875 40.96875 \nQ 46.484375 44.53125 46.484375 51.125 \nQ 46.484375 57.671875 42.71875 61.234375 \nQ 38.96875 64.796875 32.078125 64.796875 \nz\nM 9.8125 72.90625 \nL 32.078125 72.90625 \nQ 44.34375 72.90625 50.609375 67.359375 \nQ 56.890625 61.8125 56.890625 51.125 \nQ 56.890625 40.328125 50.609375 34.8125 \nQ 44.34375 29.296875 32.078125 29.296875 \nL 19.671875 29.296875 \nL 19.671875 0 \nL 9.8125 0 \nz\n\" id=\"DejaVuSans-80\"/>\n       <path d=\"M 41.109375 46.296875 \nQ 39.59375 47.171875 37.8125 47.578125 \nQ 36.03125 48 33.890625 48 \nQ 26.265625 48 22.1875 43.046875 \nQ 18.109375 38.09375 18.109375 28.8125 \nL 18.109375 0 \nL 9.078125 0 \nL 9.078125 54.6875 \nL 18.109375 54.6875 \nL 18.109375 46.1875 \nQ 20.953125 51.171875 25.484375 53.578125 \nQ 30.03125 56 36.53125 56 \nQ 37.453125 56 38.578125 55.875 \nQ 39.703125 55.765625 41.0625 55.515625 \nz\n\" id=\"DejaVuSans-114\"/>\n       <path d=\"M 9.421875 54.6875 \nL 18.40625 54.6875 \nL 18.40625 0 \nL 9.421875 0 \nz\nM 9.421875 75.984375 \nL 18.40625 75.984375 \nL 18.40625 64.59375 \nL 9.421875 64.59375 \nz\n\" id=\"DejaVuSans-105\"/>\n       <path d=\"M 56.203125 29.59375 \nL 56.203125 25.203125 \nL 14.890625 25.203125 \nQ 15.484375 15.921875 20.484375 11.0625 \nQ 25.484375 6.203125 34.421875 6.203125 \nQ 39.59375 6.203125 44.453125 7.46875 \nQ 49.3125 8.734375 54.109375 11.28125 \nL 54.109375 2.78125 \nQ 49.265625 0.734375 44.1875 -0.34375 \nQ 39.109375 -1.421875 33.890625 -1.421875 \nQ 20.796875 -1.421875 13.15625 6.1875 \nQ 5.515625 13.8125 5.515625 26.8125 \nQ 5.515625 40.234375 12.765625 48.109375 \nQ 20.015625 56 32.328125 56 \nQ 43.359375 56 49.78125 48.890625 \nQ 56.203125 41.796875 56.203125 29.59375 \nz\nM 47.21875 32.234375 \nQ 47.125 39.59375 43.09375 43.984375 \nQ 39.0625 48.390625 32.421875 48.390625 \nQ 24.90625 48.390625 20.390625 44.140625 \nQ 15.875 39.890625 15.1875 32.171875 \nz\n\" id=\"DejaVuSans-101\"/>\n      </defs>\n      <use xlink:href=\"#DejaVuSans-83\"/>\n      <use x=\"63.476562\" xlink:href=\"#DejaVuSans-116\"/>\n      <use x=\"102.685547\" xlink:href=\"#DejaVuSans-111\"/>\n      <use x=\"163.867188\" xlink:href=\"#DejaVuSans-99\"/>\n      <use x=\"218.847656\" xlink:href=\"#DejaVuSans-107\"/>\n      <use x=\"276.757812\" xlink:href=\"#DejaVuSans-32\"/>\n      <use x=\"308.544922\" xlink:href=\"#DejaVuSans-80\"/>\n      <use x=\"367.097656\" xlink:href=\"#DejaVuSans-114\"/>\n      <use x=\"408.210938\" xlink:href=\"#DejaVuSans-105\"/>\n      <use x=\"435.994141\" xlink:href=\"#DejaVuSans-99\"/>\n      <use x=\"490.974609\" xlink:href=\"#DejaVuSans-101\"/>\n     </g>\n    </g>\n   </g>\n   <g id=\"matplotlib.axis_2\">\n    <g id=\"ytick_1\">\n     <g id=\"line2d_19\">\n      <path clip-path=\"url(#p028c1741e2)\" d=\"M 48.982813 215.797794 \nL 383.782813 215.797794 \n\" style=\"fill:none;stroke:#b0b0b0;stroke-linecap:square;stroke-width:0.8;\"/>\n     </g>\n     <g id=\"line2d_20\">\n      <defs>\n       <path d=\"M 0 0 \nL -3.5 0 \n\" id=\"mef7b1bb164\" style=\"stroke:#000000;stroke-width:0.8;\"/>\n      </defs>\n      <g>\n       <use style=\"stroke:#000000;stroke-width:0.8;\" x=\"48.982813\" xlink:href=\"#mef7b1bb164\" y=\"215.797794\"/>\n      </g>\n     </g>\n     <g id=\"text_11\">\n      <!-- −20 -->\n      <g transform=\"translate(20.878125 219.597013)scale(0.1 -0.1)\">\n       <defs>\n        <path d=\"M 10.59375 35.5 \nL 73.1875 35.5 \nL 73.1875 27.203125 \nL 10.59375 27.203125 \nz\n\" id=\"DejaVuSans-8722\"/>\n       </defs>\n       <use xlink:href=\"#DejaVuSans-8722\"/>\n       <use x=\"83.789062\" xlink:href=\"#DejaVuSans-50\"/>\n       <use x=\"147.412109\" xlink:href=\"#DejaVuSans-48\"/>\n      </g>\n     </g>\n    </g>\n    <g id=\"ytick_2\">\n     <g id=\"line2d_21\">\n      <path clip-path=\"url(#p028c1741e2)\" d=\"M 48.982813 175.86391 \nL 383.782813 175.86391 \n\" style=\"fill:none;stroke:#b0b0b0;stroke-linecap:square;stroke-width:0.8;\"/>\n     </g>\n     <g id=\"line2d_22\">\n      <g>\n       <use style=\"stroke:#000000;stroke-width:0.8;\" x=\"48.982813\" xlink:href=\"#mef7b1bb164\" y=\"175.86391\"/>\n      </g>\n     </g>\n     <g id=\"text_12\">\n      <!-- 0 -->\n      <g transform=\"translate(35.620312 179.663129)scale(0.1 -0.1)\">\n       <use xlink:href=\"#DejaVuSans-48\"/>\n      </g>\n     </g>\n    </g>\n    <g id=\"ytick_3\">\n     <g id=\"line2d_23\">\n      <path clip-path=\"url(#p028c1741e2)\" d=\"M 48.982813 135.930026 \nL 383.782813 135.930026 \n\" style=\"fill:none;stroke:#b0b0b0;stroke-linecap:square;stroke-width:0.8;\"/>\n     </g>\n     <g id=\"line2d_24\">\n      <g>\n       <use style=\"stroke:#000000;stroke-width:0.8;\" x=\"48.982813\" xlink:href=\"#mef7b1bb164\" y=\"135.930026\"/>\n      </g>\n     </g>\n     <g id=\"text_13\">\n      <!-- 20 -->\n      <g transform=\"translate(29.257812 139.729245)scale(0.1 -0.1)\">\n       <use xlink:href=\"#DejaVuSans-50\"/>\n       <use x=\"63.623047\" xlink:href=\"#DejaVuSans-48\"/>\n      </g>\n     </g>\n    </g>\n    <g id=\"ytick_4\">\n     <g id=\"line2d_25\">\n      <path clip-path=\"url(#p028c1741e2)\" d=\"M 48.982813 95.996142 \nL 383.782813 95.996142 \n\" style=\"fill:none;stroke:#b0b0b0;stroke-linecap:square;stroke-width:0.8;\"/>\n     </g>\n     <g id=\"line2d_26\">\n      <g>\n       <use style=\"stroke:#000000;stroke-width:0.8;\" x=\"48.982813\" xlink:href=\"#mef7b1bb164\" y=\"95.996142\"/>\n      </g>\n     </g>\n     <g id=\"text_14\">\n      <!-- 40 -->\n      <g transform=\"translate(29.257812 99.79536)scale(0.1 -0.1)\">\n       <defs>\n        <path d=\"M 37.796875 64.3125 \nL 12.890625 25.390625 \nL 37.796875 25.390625 \nz\nM 35.203125 72.90625 \nL 47.609375 72.90625 \nL 47.609375 25.390625 \nL 58.015625 25.390625 \nL 58.015625 17.1875 \nL 47.609375 17.1875 \nL 47.609375 0 \nL 37.796875 0 \nL 37.796875 17.1875 \nL 4.890625 17.1875 \nL 4.890625 26.703125 \nz\n\" id=\"DejaVuSans-52\"/>\n       </defs>\n       <use xlink:href=\"#DejaVuSans-52\"/>\n       <use x=\"63.623047\" xlink:href=\"#DejaVuSans-48\"/>\n      </g>\n     </g>\n    </g>\n    <g id=\"ytick_5\">\n     <g id=\"line2d_27\">\n      <path clip-path=\"url(#p028c1741e2)\" d=\"M 48.982813 56.062257 \nL 383.782813 56.062257 \n\" style=\"fill:none;stroke:#b0b0b0;stroke-linecap:square;stroke-width:0.8;\"/>\n     </g>\n     <g id=\"line2d_28\">\n      <g>\n       <use style=\"stroke:#000000;stroke-width:0.8;\" x=\"48.982813\" xlink:href=\"#mef7b1bb164\" y=\"56.062257\"/>\n      </g>\n     </g>\n     <g id=\"text_15\">\n      <!-- 60 -->\n      <g transform=\"translate(29.257812 59.861476)scale(0.1 -0.1)\">\n       <defs>\n        <path d=\"M 33.015625 40.375 \nQ 26.375 40.375 22.484375 35.828125 \nQ 18.609375 31.296875 18.609375 23.390625 \nQ 18.609375 15.53125 22.484375 10.953125 \nQ 26.375 6.390625 33.015625 6.390625 \nQ 39.65625 6.390625 43.53125 10.953125 \nQ 47.40625 15.53125 47.40625 23.390625 \nQ 47.40625 31.296875 43.53125 35.828125 \nQ 39.65625 40.375 33.015625 40.375 \nz\nM 52.59375 71.296875 \nL 52.59375 62.3125 \nQ 48.875 64.0625 45.09375 64.984375 \nQ 41.3125 65.921875 37.59375 65.921875 \nQ 27.828125 65.921875 22.671875 59.328125 \nQ 17.53125 52.734375 16.796875 39.40625 \nQ 19.671875 43.65625 24.015625 45.921875 \nQ 28.375 48.1875 33.59375 48.1875 \nQ 44.578125 48.1875 50.953125 41.515625 \nQ 57.328125 34.859375 57.328125 23.390625 \nQ 57.328125 12.15625 50.6875 5.359375 \nQ 44.046875 -1.421875 33.015625 -1.421875 \nQ 20.359375 -1.421875 13.671875 8.265625 \nQ 6.984375 17.96875 6.984375 36.375 \nQ 6.984375 53.65625 15.1875 63.9375 \nQ 23.390625 74.21875 37.203125 74.21875 \nQ 40.921875 74.21875 44.703125 73.484375 \nQ 48.484375 72.75 52.59375 71.296875 \nz\n\" id=\"DejaVuSans-54\"/>\n       </defs>\n       <use xlink:href=\"#DejaVuSans-54\"/>\n       <use x=\"63.623047\" xlink:href=\"#DejaVuSans-48\"/>\n      </g>\n     </g>\n    </g>\n    <g id=\"text_16\">\n     <!-- payoff -->\n     <g transform=\"translate(14.798437 146.815469)rotate(-90)scale(0.1 -0.1)\">\n      <defs>\n       <path d=\"M 18.109375 8.203125 \nL 18.109375 -20.796875 \nL 9.078125 -20.796875 \nL 9.078125 54.6875 \nL 18.109375 54.6875 \nL 18.109375 46.390625 \nQ 20.953125 51.265625 25.265625 53.625 \nQ 29.59375 56 35.59375 56 \nQ 45.5625 56 51.78125 48.09375 \nQ 58.015625 40.1875 58.015625 27.296875 \nQ 58.015625 14.40625 51.78125 6.484375 \nQ 45.5625 -1.421875 35.59375 -1.421875 \nQ 29.59375 -1.421875 25.265625 0.953125 \nQ 20.953125 3.328125 18.109375 8.203125 \nz\nM 48.6875 27.296875 \nQ 48.6875 37.203125 44.609375 42.84375 \nQ 40.53125 48.484375 33.40625 48.484375 \nQ 26.265625 48.484375 22.1875 42.84375 \nQ 18.109375 37.203125 18.109375 27.296875 \nQ 18.109375 17.390625 22.1875 11.75 \nQ 26.265625 6.109375 33.40625 6.109375 \nQ 40.53125 6.109375 44.609375 11.75 \nQ 48.6875 17.390625 48.6875 27.296875 \nz\n\" id=\"DejaVuSans-112\"/>\n       <path d=\"M 34.28125 27.484375 \nQ 23.390625 27.484375 19.1875 25 \nQ 14.984375 22.515625 14.984375 16.5 \nQ 14.984375 11.71875 18.140625 8.90625 \nQ 21.296875 6.109375 26.703125 6.109375 \nQ 34.1875 6.109375 38.703125 11.40625 \nQ 43.21875 16.703125 43.21875 25.484375 \nL 43.21875 27.484375 \nz\nM 52.203125 31.203125 \nL 52.203125 0 \nL 43.21875 0 \nL 43.21875 8.296875 \nQ 40.140625 3.328125 35.546875 0.953125 \nQ 30.953125 -1.421875 24.3125 -1.421875 \nQ 15.921875 -1.421875 10.953125 3.296875 \nQ 6 8.015625 6 15.921875 \nQ 6 25.140625 12.171875 29.828125 \nQ 18.359375 34.515625 30.609375 34.515625 \nL 43.21875 34.515625 \nL 43.21875 35.40625 \nQ 43.21875 41.609375 39.140625 45 \nQ 35.0625 48.390625 27.6875 48.390625 \nQ 23 48.390625 18.546875 47.265625 \nQ 14.109375 46.140625 10.015625 43.890625 \nL 10.015625 52.203125 \nQ 14.9375 54.109375 19.578125 55.046875 \nQ 24.21875 56 28.609375 56 \nQ 40.484375 56 46.34375 49.84375 \nQ 52.203125 43.703125 52.203125 31.203125 \nz\n\" id=\"DejaVuSans-97\"/>\n       <path d=\"M 32.171875 -5.078125 \nQ 28.375 -14.84375 24.75 -17.8125 \nQ 21.140625 -20.796875 15.09375 -20.796875 \nL 7.90625 -20.796875 \nL 7.90625 -13.28125 \nL 13.1875 -13.28125 \nQ 16.890625 -13.28125 18.9375 -11.515625 \nQ 21 -9.765625 23.484375 -3.21875 \nL 25.09375 0.875 \nL 2.984375 54.6875 \nL 12.5 54.6875 \nL 29.59375 11.921875 \nL 46.6875 54.6875 \nL 56.203125 54.6875 \nz\n\" id=\"DejaVuSans-121\"/>\n       <path d=\"M 37.109375 75.984375 \nL 37.109375 68.5 \nL 28.515625 68.5 \nQ 23.6875 68.5 21.796875 66.546875 \nQ 19.921875 64.59375 19.921875 59.515625 \nL 19.921875 54.6875 \nL 34.71875 54.6875 \nL 34.71875 47.703125 \nL 19.921875 47.703125 \nL 19.921875 0 \nL 10.890625 0 \nL 10.890625 47.703125 \nL 2.296875 47.703125 \nL 2.296875 54.6875 \nL 10.890625 54.6875 \nL 10.890625 58.5 \nQ 10.890625 67.625 15.140625 71.796875 \nQ 19.390625 75.984375 28.609375 75.984375 \nz\n\" id=\"DejaVuSans-102\"/>\n      </defs>\n      <use xlink:href=\"#DejaVuSans-112\"/>\n      <use x=\"63.476562\" xlink:href=\"#DejaVuSans-97\"/>\n      <use x=\"124.755859\" xlink:href=\"#DejaVuSans-121\"/>\n      <use x=\"183.935547\" xlink:href=\"#DejaVuSans-111\"/>\n      <use x=\"245.117188\" xlink:href=\"#DejaVuSans-102\"/>\n      <use x=\"280.322266\" xlink:href=\"#DejaVuSans-102\"/>\n     </g>\n    </g>\n   </g>\n   <g id=\"line2d_29\">\n    <path clip-path=\"url(#p028c1741e2)\" d=\"M 64.200994 229.874489 \nL 217.147545 229.874489 \nL 368.564631 32.201761 \nL 368.564631 32.201761 \n\" style=\"fill:none;stroke:#1f77b4;stroke-linecap:square;stroke-width:1.5;\"/>\n   </g>\n   <g id=\"line2d_30\">\n    <defs>\n     <path d=\"M 0 3 \nC 0.795609 3 1.55874 2.683901 2.12132 2.12132 \nC 2.683901 1.55874 3 0.795609 3 0 \nC 3 -0.795609 2.683901 -1.55874 2.12132 -2.12132 \nC 1.55874 -2.683901 0.795609 -3 0 -3 \nC -0.795609 -3 -1.55874 -2.683901 -2.12132 -2.12132 \nC -2.683901 -1.55874 -3 -0.795609 -3 0 \nC -3 0.795609 -2.683901 1.55874 -2.12132 2.12132 \nC -1.55874 2.683901 -0.795609 3 0 3 \nz\n\" id=\"m3c33e394bf\" style=\"stroke:#ff0000;\"/>\n    </defs>\n    <g clip-path=\"url(#p028c1741e2)\">\n     <use style=\"fill:#ff0000;stroke:#ff0000;\" x=\"258.519587\" xlink:href=\"#m3c33e394bf\" y=\"175.86391\"/>\n    </g>\n   </g>\n   <g id=\"patch_3\">\n    <path d=\"M 48.982813 239.758125 \nL 48.982813 22.318125 \n\" style=\"fill:none;stroke:#000000;stroke-linecap:square;stroke-linejoin:miter;stroke-width:0.8;\"/>\n   </g>\n   <g id=\"patch_4\">\n    <path d=\"M 383.782813 239.758125 \nL 383.782813 22.318125 \n\" style=\"fill:none;stroke:#000000;stroke-linecap:square;stroke-linejoin:miter;stroke-width:0.8;\"/>\n   </g>\n   <g id=\"patch_5\">\n    <path d=\"M 48.982813 239.758125 \nL 383.782813 239.758125 \n\" style=\"fill:none;stroke:#000000;stroke-linecap:square;stroke-linejoin:miter;stroke-width:0.8;\"/>\n   </g>\n   <g id=\"patch_6\">\n    <path d=\"M 48.982813 22.318125 \nL 383.782813 22.318125 \n\" style=\"fill:none;stroke:#000000;stroke-linecap:square;stroke-linejoin:miter;stroke-width:0.8;\"/>\n   </g>\n   <g id=\"text_17\">\n    <!-- Call option Payoff at Expiry -->\n    <g transform=\"translate(135.245 16.318125)scale(0.12 -0.12)\">\n     <defs>\n      <path d=\"M 64.40625 67.28125 \nL 64.40625 56.890625 \nQ 59.421875 61.53125 53.78125 63.8125 \nQ 48.140625 66.109375 41.796875 66.109375 \nQ 29.296875 66.109375 22.65625 58.46875 \nQ 16.015625 50.828125 16.015625 36.375 \nQ 16.015625 21.96875 22.65625 14.328125 \nQ 29.296875 6.6875 41.796875 6.6875 \nQ 48.140625 6.6875 53.78125 8.984375 \nQ 59.421875 11.28125 64.40625 15.921875 \nL 64.40625 5.609375 \nQ 59.234375 2.09375 53.4375 0.328125 \nQ 47.65625 -1.421875 41.21875 -1.421875 \nQ 24.65625 -1.421875 15.125 8.703125 \nQ 5.609375 18.84375 5.609375 36.375 \nQ 5.609375 53.953125 15.125 64.078125 \nQ 24.65625 74.21875 41.21875 74.21875 \nQ 47.75 74.21875 53.53125 72.484375 \nQ 59.328125 70.75 64.40625 67.28125 \nz\n\" id=\"DejaVuSans-67\"/>\n      <path d=\"M 9.421875 75.984375 \nL 18.40625 75.984375 \nL 18.40625 0 \nL 9.421875 0 \nz\n\" id=\"DejaVuSans-108\"/>\n      <path d=\"M 54.890625 33.015625 \nL 54.890625 0 \nL 45.90625 0 \nL 45.90625 32.71875 \nQ 45.90625 40.484375 42.875 44.328125 \nQ 39.84375 48.1875 33.796875 48.1875 \nQ 26.515625 48.1875 22.3125 43.546875 \nQ 18.109375 38.921875 18.109375 30.90625 \nL 18.109375 0 \nL 9.078125 0 \nL 9.078125 54.6875 \nL 18.109375 54.6875 \nL 18.109375 46.1875 \nQ 21.34375 51.125 25.703125 53.5625 \nQ 30.078125 56 35.796875 56 \nQ 45.21875 56 50.046875 50.171875 \nQ 54.890625 44.34375 54.890625 33.015625 \nz\n\" id=\"DejaVuSans-110\"/>\n      <path d=\"M 9.8125 72.90625 \nL 55.90625 72.90625 \nL 55.90625 64.59375 \nL 19.671875 64.59375 \nL 19.671875 43.015625 \nL 54.390625 43.015625 \nL 54.390625 34.71875 \nL 19.671875 34.71875 \nL 19.671875 8.296875 \nL 56.78125 8.296875 \nL 56.78125 0 \nL 9.8125 0 \nz\n\" id=\"DejaVuSans-69\"/>\n      <path d=\"M 54.890625 54.6875 \nL 35.109375 28.078125 \nL 55.90625 0 \nL 45.3125 0 \nL 29.390625 21.484375 \nL 13.484375 0 \nL 2.875 0 \nL 24.125 28.609375 \nL 4.6875 54.6875 \nL 15.28125 54.6875 \nL 29.78125 35.203125 \nL 44.28125 54.6875 \nz\n\" id=\"DejaVuSans-120\"/>\n     </defs>\n     <use xlink:href=\"#DejaVuSans-67\"/>\n     <use x=\"69.824219\" xlink:href=\"#DejaVuSans-97\"/>\n     <use x=\"131.103516\" xlink:href=\"#DejaVuSans-108\"/>\n     <use x=\"158.886719\" xlink:href=\"#DejaVuSans-108\"/>\n     <use x=\"186.669922\" xlink:href=\"#DejaVuSans-32\"/>\n     <use x=\"218.457031\" xlink:href=\"#DejaVuSans-111\"/>\n     <use x=\"279.638672\" xlink:href=\"#DejaVuSans-112\"/>\n     <use x=\"343.115234\" xlink:href=\"#DejaVuSans-116\"/>\n     <use x=\"382.324219\" xlink:href=\"#DejaVuSans-105\"/>\n     <use x=\"410.107422\" xlink:href=\"#DejaVuSans-111\"/>\n     <use x=\"471.289062\" xlink:href=\"#DejaVuSans-110\"/>\n     <use x=\"534.667969\" xlink:href=\"#DejaVuSans-32\"/>\n     <use x=\"566.455078\" xlink:href=\"#DejaVuSans-80\"/>\n     <use x=\"622.257812\" xlink:href=\"#DejaVuSans-97\"/>\n     <use x=\"683.537109\" xlink:href=\"#DejaVuSans-121\"/>\n     <use x=\"742.716797\" xlink:href=\"#DejaVuSans-111\"/>\n     <use x=\"803.898438\" xlink:href=\"#DejaVuSans-102\"/>\n     <use x=\"839.103516\" xlink:href=\"#DejaVuSans-102\"/>\n     <use x=\"874.308594\" xlink:href=\"#DejaVuSans-32\"/>\n     <use x=\"906.095703\" xlink:href=\"#DejaVuSans-97\"/>\n     <use x=\"967.375\" xlink:href=\"#DejaVuSans-116\"/>\n     <use x=\"1006.583984\" xlink:href=\"#DejaVuSans-32\"/>\n     <use x=\"1038.371094\" xlink:href=\"#DejaVuSans-69\"/>\n     <use x=\"1101.554688\" xlink:href=\"#DejaVuSans-120\"/>\n     <use x=\"1160.734375\" xlink:href=\"#DejaVuSans-112\"/>\n     <use x=\"1224.210938\" xlink:href=\"#DejaVuSans-105\"/>\n     <use x=\"1251.994141\" xlink:href=\"#DejaVuSans-114\"/>\n     <use x=\"1293.107422\" xlink:href=\"#DejaVuSans-121\"/>\n    </g>\n   </g>\n   <g id=\"legend_1\">\n    <g id=\"patch_7\">\n     <path d=\"M 55.982813 59.674375 \nL 169.170312 59.674375 \nQ 171.170312 59.674375 171.170312 57.674375 \nL 171.170312 29.318125 \nQ 171.170312 27.318125 169.170312 27.318125 \nL 55.982813 27.318125 \nQ 53.982813 27.318125 53.982813 29.318125 \nL 53.982813 57.674375 \nQ 53.982813 59.674375 55.982813 59.674375 \nz\n\" style=\"fill:#ffffff;opacity:0.8;stroke:#cccccc;stroke-linejoin:miter;\"/>\n    </g>\n    <g id=\"line2d_31\">\n     <path d=\"M 57.982813 35.416562 \nL 77.982812 35.416562 \n\" style=\"fill:none;stroke:#1f77b4;stroke-linecap:square;stroke-width:1.5;\"/>\n    </g>\n    <g id=\"line2d_32\"/>\n    <g id=\"text_18\">\n     <!-- payoff line -->\n     <g transform=\"translate(85.982812 38.916562)scale(0.1 -0.1)\">\n      <use xlink:href=\"#DejaVuSans-112\"/>\n      <use x=\"63.476562\" xlink:href=\"#DejaVuSans-97\"/>\n      <use x=\"124.755859\" xlink:href=\"#DejaVuSans-121\"/>\n      <use x=\"183.935547\" xlink:href=\"#DejaVuSans-111\"/>\n      <use x=\"245.117188\" xlink:href=\"#DejaVuSans-102\"/>\n      <use x=\"280.322266\" xlink:href=\"#DejaVuSans-102\"/>\n      <use x=\"315.527344\" xlink:href=\"#DejaVuSans-32\"/>\n      <use x=\"347.314453\" xlink:href=\"#DejaVuSans-108\"/>\n      <use x=\"375.097656\" xlink:href=\"#DejaVuSans-105\"/>\n      <use x=\"402.880859\" xlink:href=\"#DejaVuSans-110\"/>\n      <use x=\"466.259766\" xlink:href=\"#DejaVuSans-101\"/>\n     </g>\n    </g>\n    <g id=\"line2d_33\"/>\n    <g id=\"line2d_34\">\n     <g>\n      <use style=\"fill:#ff0000;stroke:#ff0000;\" x=\"67.982812\" xlink:href=\"#m3c33e394bf\" y=\"50.094687\"/>\n     </g>\n    </g>\n    <g id=\"text_19\">\n     <!-- breakeven point -->\n     <g transform=\"translate(85.982812 53.594687)scale(0.1 -0.1)\">\n      <defs>\n       <path d=\"M 48.6875 27.296875 \nQ 48.6875 37.203125 44.609375 42.84375 \nQ 40.53125 48.484375 33.40625 48.484375 \nQ 26.265625 48.484375 22.1875 42.84375 \nQ 18.109375 37.203125 18.109375 27.296875 \nQ 18.109375 17.390625 22.1875 11.75 \nQ 26.265625 6.109375 33.40625 6.109375 \nQ 40.53125 6.109375 44.609375 11.75 \nQ 48.6875 17.390625 48.6875 27.296875 \nz\nM 18.109375 46.390625 \nQ 20.953125 51.265625 25.265625 53.625 \nQ 29.59375 56 35.59375 56 \nQ 45.5625 56 51.78125 48.09375 \nQ 58.015625 40.1875 58.015625 27.296875 \nQ 58.015625 14.40625 51.78125 6.484375 \nQ 45.5625 -1.421875 35.59375 -1.421875 \nQ 29.59375 -1.421875 25.265625 0.953125 \nQ 20.953125 3.328125 18.109375 8.203125 \nL 18.109375 0 \nL 9.078125 0 \nL 9.078125 75.984375 \nL 18.109375 75.984375 \nz\n\" id=\"DejaVuSans-98\"/>\n       <path d=\"M 2.984375 54.6875 \nL 12.5 54.6875 \nL 29.59375 8.796875 \nL 46.6875 54.6875 \nL 56.203125 54.6875 \nL 35.6875 0 \nL 23.484375 0 \nz\n\" id=\"DejaVuSans-118\"/>\n      </defs>\n      <use xlink:href=\"#DejaVuSans-98\"/>\n      <use x=\"63.476562\" xlink:href=\"#DejaVuSans-114\"/>\n      <use x=\"102.339844\" xlink:href=\"#DejaVuSans-101\"/>\n      <use x=\"163.863281\" xlink:href=\"#DejaVuSans-97\"/>\n      <use x=\"225.142578\" xlink:href=\"#DejaVuSans-107\"/>\n      <use x=\"279.427734\" xlink:href=\"#DejaVuSans-101\"/>\n      <use x=\"340.951172\" xlink:href=\"#DejaVuSans-118\"/>\n      <use x=\"400.130859\" xlink:href=\"#DejaVuSans-101\"/>\n      <use x=\"461.654297\" xlink:href=\"#DejaVuSans-110\"/>\n      <use x=\"525.033203\" xlink:href=\"#DejaVuSans-32\"/>\n      <use x=\"556.820312\" xlink:href=\"#DejaVuSans-112\"/>\n      <use x=\"620.296875\" xlink:href=\"#DejaVuSans-111\"/>\n      <use x=\"681.478516\" xlink:href=\"#DejaVuSans-105\"/>\n      <use x=\"709.261719\" xlink:href=\"#DejaVuSans-110\"/>\n      <use x=\"772.640625\" xlink:href=\"#DejaVuSans-116\"/>\n     </g>\n    </g>\n   </g>\n  </g>\n </g>\n <defs>\n  <clipPath id=\"p028c1741e2\">\n   <rect height=\"217.44\" width=\"334.8\" x=\"48.982813\" y=\"22.318125\"/>\n  </clipPath>\n </defs>\n</svg>\n",
      "image/png": "[encoded data removed]"
     },
     "metadata": {
      "needs_background": "light"
     }
    }
   ],
   "source": [
    "#Plot for payoff and breakeven point\n",
    "\n",
    "plt.plot(StockPrice, Payoff, label = 'payoff line')\n",
    "plt.xlabel('Stock Price')\n",
    "plt.ylabel('payoff')\n",
    "plt.title('Call option Payoff at Expiry')\n",
    "plt.grid(True)\n",
    "plt.plot(X+premium, 0, 'ro', label = 'breakeven point')\n",
    "plt.legend()"
   ]
  },
  {
   "cell_type": "markdown",
   "metadata": {},
   "source": [
    "### Put Option"
   ]
  },
  {
   "cell_type": "code",
   "execution_count": 74,
   "metadata": {},
   "outputs": [],
   "source": [
    "#Now similarly complete the put payoff graph"
   ]
  },
  {
   "cell_type": "code",
   "execution_count": 75,
   "metadata": {},
   "outputs": [
    {
     "data": {
      "text/plain": [
       "23.7"
      ]
     },
     "execution_count": 75,
     "metadata": {},
     "output_type": "execute_result"
    }
   ],
   "source": [
    "X = 150   #strike price\n",
    "premium = _______  #get the corresponding premium\n",
    "premium"
   ]
  },
  {
   "cell_type": "code",
   "execution_count": 76,
   "metadata": {},
   "outputs": [],
   "source": [
    "StockPrice = np.arange(0, 300)   #get array of numbers from 0 to 300\n",
    "\n",
    "#calculate a payoff list/array of call option for every stock_price in StockPrice and let the premium be premium\n",
    "#and strike price be X as calculated in the previous cell\n",
    "Payoff = []  "
   ]
  },
  {
   "cell_type": "code",
   "execution_count": 77,
   "metadata": {},
   "outputs": [
    {
     "data": {
      "text/plain": [
       "<matplotlib.legend.Legend at 0x2237ab24240>"
      ]
     },
     "execution_count": 77,
     "metadata": {},
     "output_type": "execute_result"
    },
    {
     "data": {
      "image/png": "[encoded data removed]",
      "text/plain": [
       "<Figure size 432x288 with 1 Axes>"
      ]
     },
     "metadata": {
      "needs_background": "light"
     },
     "output_type": "display_data"
    }
   ],
   "source": [
    "#get a similar type of graph of put payoffs and breakeven point \n"
   ]
  },
  {
   "cell_type": "code",
   "execution_count": null,
   "metadata": {},
   "outputs": [],
   "source": []
  }
 ],
 "metadata": {
  "kernelspec": {
   "name": "python3",
   "display_name": "Python 3.6.9 64-bit ('venv': venv)"
  },
  "language_info": {
   "codemirror_mode": {
    "name": "ipython",
    "version": 3
   },
   "file_extension": ".py",
   "mimetype": "text/x-python",
   "name": "python",
   "nbconvert_exporter": "python",
   "pygments_lexer": "ipython3",
   "version": "3.6.9"
  },
  "interpreter": {
   "hash": "57a4ac3c50761de0b8d0608acff8cd4dcecc0c51bd855fa64161b28406985be3"
  }
 },
 "nbformat": 4,
 "nbformat_minor": 2
}