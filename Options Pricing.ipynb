{
 "cells": [
  {
   "cell_type": "markdown",
   "metadata": {},
   "source": [
    "# Binomial Pricing model and Black-Scholes Model"
   ]
  },
  {
   "cell_type": "markdown",
   "metadata": {},
   "source": [
    "https://www.investopedia.com/terms/b/binomialoptionpricing.asp<br/>\n",
    "https://www.investopedia.com/terms/b/blackscholes.asp"
   ]
  },
  {
   "cell_type": "markdown",
   "metadata": {},
   "source": [
    "## Importing important libraries"
   ]
  },
  {
   "cell_type": "code",
   "execution_count": 1,
   "metadata": {},
   "outputs": [],
   "source": [
    "import pandas as pd\n",
    "import matplotlib.pyplot as plt\n",
    "import numpy as np\n",
    "\n",
    "from datetime import date\n",
    "\n",
    "import warnings\n",
    "warnings.filterwarnings(\"ignore\")\n",
    "\n",
    "# to fetch data \n",
    "import yfinance as yf\n",
    "\n",
    "import scipy.stats as ss"
   ]
  },
  {
   "cell_type": "markdown",
   "metadata": {},
   "source": [
    "## Importing data"
   ]
  },
  {
   "cell_type": "code",
   "execution_count": 2,
   "metadata": {},
   "outputs": [
    {
     "name": "stdout",
     "output_type": "stream",
     "text": [
      "[*********************100%***********************]  1 of 1 completed\n"
     ]
    },
    {
     "data": {
      "text/html": [
       "<div>\n",
       "<style scoped>\n",
       "    .dataframe tbody tr th:only-of-type {\n",
       "        vertical-align: middle;\n",
       "    }\n",
       "\n",
       "    .dataframe tbody tr th {\n",
       "        vertical-align: top;\n",
       "    }\n",
       "\n",
       "    .dataframe thead th {\n",
       "        text-align: right;\n",
       "    }\n",
       "</style>\n",
       "<table border=\"1\" class=\"dataframe\">\n",
       "  <thead>\n",
       "    <tr style=\"text-align: right;\">\n",
       "      <th></th>\n",
       "      <th>Open</th>\n",
       "      <th>High</th>\n",
       "      <th>Low</th>\n",
       "      <th>Close</th>\n",
       "      <th>Adj Close</th>\n",
       "      <th>Volume</th>\n",
       "    </tr>\n",
       "    <tr>\n",
       "      <th>Date</th>\n",
       "      <th></th>\n",
       "      <th></th>\n",
       "      <th></th>\n",
       "      <th></th>\n",
       "      <th></th>\n",
       "      <th></th>\n",
       "    </tr>\n",
       "  </thead>\n",
       "  <tbody>\n",
       "    <tr>\n",
       "      <th>2021-06-10</th>\n",
       "      <td>127.019997</td>\n",
       "      <td>128.190002</td>\n",
       "      <td>125.940002</td>\n",
       "      <td>126.110001</td>\n",
       "      <td>126.110001</td>\n",
       "      <td>71186400</td>\n",
       "    </tr>\n",
       "    <tr>\n",
       "      <th>2021-06-11</th>\n",
       "      <td>126.529999</td>\n",
       "      <td>127.440002</td>\n",
       "      <td>126.099998</td>\n",
       "      <td>127.349998</td>\n",
       "      <td>127.349998</td>\n",
       "      <td>53415300</td>\n",
       "    </tr>\n",
       "    <tr>\n",
       "      <th>2021-06-14</th>\n",
       "      <td>127.820000</td>\n",
       "      <td>130.539993</td>\n",
       "      <td>127.070000</td>\n",
       "      <td>130.479996</td>\n",
       "      <td>130.479996</td>\n",
       "      <td>96906500</td>\n",
       "    </tr>\n",
       "    <tr>\n",
       "      <th>2021-06-15</th>\n",
       "      <td>129.940002</td>\n",
       "      <td>130.600006</td>\n",
       "      <td>129.389999</td>\n",
       "      <td>129.639999</td>\n",
       "      <td>129.639999</td>\n",
       "      <td>62746300</td>\n",
       "    </tr>\n",
       "    <tr>\n",
       "      <th>2021-06-16</th>\n",
       "      <td>130.369995</td>\n",
       "      <td>130.889999</td>\n",
       "      <td>128.460007</td>\n",
       "      <td>130.149994</td>\n",
       "      <td>130.149994</td>\n",
       "      <td>91657900</td>\n",
       "    </tr>\n",
       "  </tbody>\n",
       "</table>\n",
       "</div>"
      ],
      "text/plain": [
       "                  Open        High         Low       Close   Adj Close  \\\n",
       "Date                                                                     \n",
       "2021-06-10  127.019997  128.190002  125.940002  126.110001  126.110001   \n",
       "2021-06-11  126.529999  127.440002  126.099998  127.349998  127.349998   \n",
       "2021-06-14  127.820000  130.539993  127.070000  130.479996  130.479996   \n",
       "2021-06-15  129.940002  130.600006  129.389999  129.639999  129.639999   \n",
       "2021-06-16  130.369995  130.889999  128.460007  130.149994  130.149994   \n",
       "\n",
       "              Volume  \n",
       "Date                  \n",
       "2021-06-10  71186400  \n",
       "2021-06-11  53415300  \n",
       "2021-06-14  96906500  \n",
       "2021-06-15  62746300  \n",
       "2021-06-16  91657900  "
      ]
     },
     "execution_count": 2,
     "metadata": {},
     "output_type": "execute_result"
    }
   ],
   "source": [
    "symbol = 'AAPL'\n",
    "end = date.today()\n",
    "start = end.replace(year = 2020)\n",
    "\n",
    "\n",
    "# Read data \n",
    "df = yf.download(symbol,start,end)\n",
    "\n",
    "df.tail()"
   ]
  },
  {
   "cell_type": "code",
   "execution_count": 3,
   "metadata": {},
   "outputs": [
    {
     "data": {
      "text/html": [
       "<div>\n",
       "<style scoped>\n",
       "    .dataframe tbody tr th:only-of-type {\n",
       "        vertical-align: middle;\n",
       "    }\n",
       "\n",
       "    .dataframe tbody tr th {\n",
       "        vertical-align: top;\n",
       "    }\n",
       "\n",
       "    .dataframe thead th {\n",
       "        text-align: right;\n",
       "    }\n",
       "</style>\n",
       "<table border=\"1\" class=\"dataframe\">\n",
       "  <thead>\n",
       "    <tr style=\"text-align: right;\">\n",
       "      <th></th>\n",
       "      <th>Open</th>\n",
       "      <th>High</th>\n",
       "      <th>Low</th>\n",
       "      <th>Close</th>\n",
       "      <th>Adj Close</th>\n",
       "      <th>Volume</th>\n",
       "    </tr>\n",
       "    <tr>\n",
       "      <th>Date</th>\n",
       "      <th></th>\n",
       "      <th></th>\n",
       "      <th></th>\n",
       "      <th></th>\n",
       "      <th></th>\n",
       "      <th></th>\n",
       "    </tr>\n",
       "  </thead>\n",
       "  <tbody>\n",
       "    <tr>\n",
       "      <th>2020-06-17</th>\n",
       "      <td>88.787498</td>\n",
       "      <td>88.849998</td>\n",
       "      <td>87.772499</td>\n",
       "      <td>87.897499</td>\n",
       "      <td>87.309204</td>\n",
       "      <td>114406400</td>\n",
       "    </tr>\n",
       "    <tr>\n",
       "      <th>2020-06-18</th>\n",
       "      <td>87.852501</td>\n",
       "      <td>88.362503</td>\n",
       "      <td>87.305000</td>\n",
       "      <td>87.932503</td>\n",
       "      <td>87.343979</td>\n",
       "      <td>96820400</td>\n",
       "    </tr>\n",
       "    <tr>\n",
       "      <th>2020-06-19</th>\n",
       "      <td>88.660004</td>\n",
       "      <td>89.139999</td>\n",
       "      <td>86.287498</td>\n",
       "      <td>87.430000</td>\n",
       "      <td>86.844833</td>\n",
       "      <td>264476000</td>\n",
       "    </tr>\n",
       "    <tr>\n",
       "      <th>2020-06-22</th>\n",
       "      <td>87.834999</td>\n",
       "      <td>89.864998</td>\n",
       "      <td>87.787498</td>\n",
       "      <td>89.717499</td>\n",
       "      <td>89.117027</td>\n",
       "      <td>135445200</td>\n",
       "    </tr>\n",
       "    <tr>\n",
       "      <th>2020-06-23</th>\n",
       "      <td>91.000000</td>\n",
       "      <td>93.095001</td>\n",
       "      <td>90.567497</td>\n",
       "      <td>91.632500</td>\n",
       "      <td>91.019203</td>\n",
       "      <td>212155600</td>\n",
       "    </tr>\n",
       "  </tbody>\n",
       "</table>\n",
       "</div>"
      ],
      "text/plain": [
       "                 Open       High        Low      Close  Adj Close     Volume\n",
       "Date                                                                        \n",
       "2020-06-17  88.787498  88.849998  87.772499  87.897499  87.309204  114406400\n",
       "2020-06-18  87.852501  88.362503  87.305000  87.932503  87.343979   96820400\n",
       "2020-06-19  88.660004  89.139999  86.287498  87.430000  86.844833  264476000\n",
       "2020-06-22  87.834999  89.864998  87.787498  89.717499  89.117027  135445200\n",
       "2020-06-23  91.000000  93.095001  90.567497  91.632500  91.019203  212155600"
      ]
     },
     "execution_count": 3,
     "metadata": {},
     "output_type": "execute_result"
    }
   ],
   "source": [
    "df.head()"
   ]
  },
  {
   "cell_type": "code",
   "execution_count": 4,
   "metadata": {},
   "outputs": [],
   "source": [
    "symbol = 'AAPL'  #the ticker of the stock whose data is to be taken out\n",
    "dfo = yf.Ticker(symbol)"
   ]
  },
  {
   "cell_type": "code",
   "execution_count": 5,
   "metadata": {},
   "outputs": [
    {
     "data": {
      "text/plain": [
       "('2021-06-18',\n",
       " '2021-06-25',\n",
       " '2021-07-02',\n",
       " '2021-07-09',\n",
       " '2021-07-16',\n",
       " '2021-07-23',\n",
       " '2021-07-30',\n",
       " '2021-08-20',\n",
       " '2021-09-17',\n",
       " '2021-10-15',\n",
       " '2021-11-19',\n",
       " '2021-12-17',\n",
       " '2022-01-21',\n",
       " '2022-06-17',\n",
       " '2022-09-16',\n",
       " '2023-01-20',\n",
       " '2023-03-17',\n",
       " '2023-06-16')"
      ]
     },
     "execution_count": 5,
     "metadata": {},
     "output_type": "execute_result"
    }
   ],
   "source": [
    "dfo.options  #to get the date of different expiration time"
   ]
  },
  {
   "cell_type": "code",
   "execution_count": 6,
   "metadata": {},
   "outputs": [],
   "source": [
    "dfo_exp = dfo.option_chain(dfo.options[1])  #you can change index to try on different expiry dates"
   ]
  },
  {
   "cell_type": "code",
   "execution_count": 7,
   "metadata": {},
   "outputs": [
    {
     "data": {
      "text/html": [
       "<div>\n",
       "<style scoped>\n",
       "    .dataframe tbody tr th:only-of-type {\n",
       "        vertical-align: middle;\n",
       "    }\n",
       "\n",
       "    .dataframe tbody tr th {\n",
       "        vertical-align: top;\n",
       "    }\n",
       "\n",
       "    .dataframe thead th {\n",
       "        text-align: right;\n",
       "    }\n",
       "</style>\n",
       "<table border=\"1\" class=\"dataframe\">\n",
       "  <thead>\n",
       "    <tr style=\"text-align: right;\">\n",
       "      <th></th>\n",
       "      <th>contractSymbol</th>\n",
       "      <th>lastTradeDate</th>\n",
       "      <th>strike</th>\n",
       "      <th>lastPrice</th>\n",
       "      <th>bid</th>\n",
       "      <th>ask</th>\n",
       "      <th>change</th>\n",
       "      <th>percentChange</th>\n",
       "      <th>volume</th>\n",
       "      <th>openInterest</th>\n",
       "      <th>impliedVolatility</th>\n",
       "      <th>inTheMoney</th>\n",
       "      <th>contractSize</th>\n",
       "      <th>currency</th>\n",
       "    </tr>\n",
       "  </thead>\n",
       "  <tbody>\n",
       "    <tr>\n",
       "      <th>0</th>\n",
       "      <td>AAPL210625C00065000</td>\n",
       "      <td>2021-06-16 14:14:58</td>\n",
       "      <td>65.0</td>\n",
       "      <td>65.75</td>\n",
       "      <td>65.80</td>\n",
       "      <td>65.95</td>\n",
       "      <td>0.000000</td>\n",
       "      <td>0.000000</td>\n",
       "      <td>1</td>\n",
       "      <td>2</td>\n",
       "      <td>1.562502</td>\n",
       "      <td>True</td>\n",
       "      <td>REGULAR</td>\n",
       "      <td>USD</td>\n",
       "    </tr>\n",
       "    <tr>\n",
       "      <th>1</th>\n",
       "      <td>AAPL210625C00070000</td>\n",
       "      <td>2021-06-18 14:33:11</td>\n",
       "      <td>70.0</td>\n",
       "      <td>60.96</td>\n",
       "      <td>60.80</td>\n",
       "      <td>60.95</td>\n",
       "      <td>2.149998</td>\n",
       "      <td>3.655837</td>\n",
       "      <td>3</td>\n",
       "      <td>20</td>\n",
       "      <td>1.406253</td>\n",
       "      <td>True</td>\n",
       "      <td>REGULAR</td>\n",
       "      <td>USD</td>\n",
       "    </tr>\n",
       "    <tr>\n",
       "      <th>2</th>\n",
       "      <td>AAPL210625C00075000</td>\n",
       "      <td>2021-06-11 15:54:35</td>\n",
       "      <td>75.0</td>\n",
       "      <td>52.01</td>\n",
       "      <td>55.80</td>\n",
       "      <td>55.95</td>\n",
       "      <td>0.000000</td>\n",
       "      <td>0.000000</td>\n",
       "      <td>10</td>\n",
       "      <td>10</td>\n",
       "      <td>1.281254</td>\n",
       "      <td>True</td>\n",
       "      <td>REGULAR</td>\n",
       "      <td>USD</td>\n",
       "    </tr>\n",
       "    <tr>\n",
       "      <th>3</th>\n",
       "      <td>AAPL210625C00080000</td>\n",
       "      <td>2021-06-14 14:02:33</td>\n",
       "      <td>80.0</td>\n",
       "      <td>48.81</td>\n",
       "      <td>50.80</td>\n",
       "      <td>50.90</td>\n",
       "      <td>0.000000</td>\n",
       "      <td>0.000000</td>\n",
       "      <td>5</td>\n",
       "      <td>10</td>\n",
       "      <td>0.000010</td>\n",
       "      <td>True</td>\n",
       "      <td>REGULAR</td>\n",
       "      <td>USD</td>\n",
       "    </tr>\n",
       "    <tr>\n",
       "      <th>4</th>\n",
       "      <td>AAPL210625C00085000</td>\n",
       "      <td>2021-06-04 18:51:14</td>\n",
       "      <td>85.0</td>\n",
       "      <td>45.60</td>\n",
       "      <td>45.85</td>\n",
       "      <td>45.90</td>\n",
       "      <td>4.449997</td>\n",
       "      <td>10.814087</td>\n",
       "      <td>16</td>\n",
       "      <td>38</td>\n",
       "      <td>0.000010</td>\n",
       "      <td>True</td>\n",
       "      <td>REGULAR</td>\n",
       "      <td>USD</td>\n",
       "    </tr>\n",
       "  </tbody>\n",
       "</table>\n",
       "</div>"
      ],
      "text/plain": [
       "        contractSymbol       lastTradeDate  strike  lastPrice    bid    ask  \\\n",
       "0  AAPL210625C00065000 2021-06-16 14:14:58    65.0      65.75  65.80  65.95   \n",
       "1  AAPL210625C00070000 2021-06-18 14:33:11    70.0      60.96  60.80  60.95   \n",
       "2  AAPL210625C00075000 2021-06-11 15:54:35    75.0      52.01  55.80  55.95   \n",
       "3  AAPL210625C00080000 2021-06-14 14:02:33    80.0      48.81  50.80  50.90   \n",
       "4  AAPL210625C00085000 2021-06-04 18:51:14    85.0      45.60  45.85  45.90   \n",
       "\n",
       "     change  percentChange  volume  openInterest  impliedVolatility  \\\n",
       "0  0.000000       0.000000       1             2           1.562502   \n",
       "1  2.149998       3.655837       3            20           1.406253   \n",
       "2  0.000000       0.000000      10            10           1.281254   \n",
       "3  0.000000       0.000000       5            10           0.000010   \n",
       "4  4.449997      10.814087      16            38           0.000010   \n",
       "\n",
       "   inTheMoney contractSize currency  \n",
       "0        True      REGULAR      USD  \n",
       "1        True      REGULAR      USD  \n",
       "2        True      REGULAR      USD  \n",
       "3        True      REGULAR      USD  \n",
       "4        True      REGULAR      USD  "
      ]
     },
     "execution_count": 7,
     "metadata": {},
     "output_type": "execute_result"
    }
   ],
   "source": [
    "dfo_exp.calls.head()"
   ]
  },
  {
   "cell_type": "markdown",
   "metadata": {},
   "source": [
    "## Calculation of u and d"
   ]
  },
  {
   "cell_type": "markdown",
   "metadata": {},
   "source": [
    "u\n",
    " =size of the up move factor=\n",
    "$e^{σ\\sqrt{t}}$\n",
    ", and\n",
    "\n",
    "d\n",
    "=size of the down move factor=\n",
    "$e^{−σ\\sqrt{t}}$\n",
    "=\n",
    "$1/e^{σ\\sqrt{t}}$\n",
    "=\n",
    "1/\n",
    "u\n"
   ]
  },
  {
   "cell_type": "markdown",
   "metadata": {},
   "source": [
    "σ\n",
    "  is the annual volatility of the underlying asset’s returns and \n",
    "t\n",
    " is the length of the step in the binomial model."
   ]
  },
  {
   "cell_type": "markdown",
   "metadata": {},
   "source": [
    "To calculate annual volatility:-<br/>\n",
    "First calculate the daily returns of the asset<br/>\n",
    "Then calculate its standard deviation<br/>\n",
    "Then multiply it by sqrt(252) as in a year there are 252 trading days."
   ]
  },
  {
   "cell_type": "code",
   "execution_count": 8,
   "metadata": {},
   "outputs": [],
   "source": [
    "#Calculation of daily returns\n",
    "#Hint : You can use pct_change on daily closing which you can get from df\n",
    "ret = _____"
   ]
  },
  {
   "cell_type": "code",
   "execution_count": 9,
   "metadata": {},
   "outputs": [
    {
     "data": {
      "text/plain": [
       "Date\n",
       "2020-06-18    0.000398\n",
       "2020-06-19   -0.005715\n",
       "2020-06-22    0.026164\n",
       "2020-06-23    0.021345\n",
       "2020-06-24   -0.017652\n",
       "Name: Close, dtype: float64"
      ]
     },
     "execution_count": 9,
     "metadata": {},
     "output_type": "execute_result"
    }
   ],
   "source": [
    "#Remove nan if any\n",
    "ret.head()"
   ]
  },
  {
   "cell_type": "code",
   "execution_count": 10,
   "metadata": {},
   "outputs": [],
   "source": [
    "#Calculation of daily standard deviation\n",
    "daily_vol = ______"
   ]
  },
  {
   "cell_type": "code",
   "execution_count": 11,
   "metadata": {},
   "outputs": [
    {
     "data": {
      "text/plain": [
       "0.02188412797437759"
      ]
     },
     "execution_count": 11,
     "metadata": {},
     "output_type": "execute_result"
    }
   ],
   "source": [
    "daily_vol   "
   ]
  },
  {
   "cell_type": "code",
   "execution_count": 12,
   "metadata": {},
   "outputs": [],
   "source": [
    "#Calculate annual volatility from daily volatility\n",
    "vol = ______"
   ]
  },
  {
   "cell_type": "code",
   "execution_count": 13,
   "metadata": {},
   "outputs": [
    {
     "data": {
      "text/plain": [
       "0.34739976167828873"
      ]
     },
     "execution_count": 13,
     "metadata": {},
     "output_type": "execute_result"
    }
   ],
   "source": [
    "vol "
   ]
  },
  {
   "cell_type": "code",
   "execution_count": 14,
   "metadata": {},
   "outputs": [
    {
     "data": {
      "text/plain": [
       "'2021-06-25'"
      ]
     },
     "execution_count": 14,
     "metadata": {},
     "output_type": "execute_result"
    }
   ],
   "source": [
    "dfo.options[1]"
   ]
  },
  {
   "cell_type": "code",
   "execution_count": 15,
   "metadata": {},
   "outputs": [
    {
     "data": {
      "text/plain": [
       "datetime.date(2021, 6, 18)"
      ]
     },
     "execution_count": 15,
     "metadata": {},
     "output_type": "execute_result"
    }
   ],
   "source": [
    "date.today()"
   ]
  },
  {
   "cell_type": "code",
   "execution_count": 16,
   "metadata": {},
   "outputs": [],
   "source": [
    "N = 100\n",
    "T =  ______     #Calculate the number of days left for expiry from your calculation in years\n",
    "t = T/N          "
   ]
  },
  {
   "cell_type": "code",
   "execution_count": 17,
   "metadata": {},
   "outputs": [
    {
     "data": {
      "text/plain": [
       "1.0048225552329342"
      ]
     },
     "execution_count": 17,
     "metadata": {},
     "output_type": "execute_result"
    }
   ],
   "source": [
    "u = ______     #Calculate u from the above formula\n",
    "u              "
   ]
  },
  {
   "cell_type": "code",
   "execution_count": 18,
   "metadata": {},
   "outputs": [
    {
     "data": {
      "text/plain": [
       "0.9952005901859794"
      ]
     },
     "execution_count": 18,
     "metadata": {},
     "output_type": "execute_result"
    }
   ],
   "source": [
    "d =  ______  #Similarly calculate d\n",
    "d"
   ]
  },
  {
   "cell_type": "markdown",
   "metadata": {},
   "source": [
    "## Binomial Pricing model for call option"
   ]
  },
  {
   "cell_type": "markdown",
   "metadata": {},
   "source": [
    "Let S denote the price of the stock today, and let T denote the time until expiry of the option, in years. We'll divide this period into N equal time intervals, of length ΔT=T/N Assume that in each time period, the stock price changes by either multiplying by u, which we consider as an up movement, or by d, the down movement. We need to assume d<erΔT<u, where r is the risk-free interest rate, to avoid the possibility of arbitrage. If k time periods have passed, m is number if up movement : S(k,m)=S * u ** m * d ** (k-m)\n",
    "\n",
    "C(N,m)=max(S(N,m)−K,0)\n",
    "\n",
    "Once we know the value of the option at the end of the tree, we can work backward as before to figure out the value of the option at every node. Let C(k,m) denote the value of the option at the node that is k steps into the tree with m up movements in the stock price. The two following nodes in the tree are C(k+1,m+1) (if the price moves up) and C(k+1,m) (if the price moves down). If we let p denote the risk-neutral probability\n",
    "\n",
    "p = (e**(rΔT)−d)/(u−d)\n",
    "\n",
    "of a movement up, then the expected value of the option in the next step is\n",
    "pC(k+1,m+1)+(1−p)C(k+1,m)\n",
    "\n",
    "and so the value of the option at C(k,m) is the above expected value, discounted to today using the risk-free interest rate. That is\n",
    "\n",
    "C(k,m)=e−rΔT(pC(k+1,m+1)+(1−p)C(k+1,m))"
   ]
  },
  {
   "attachments": {
    "image.png": {
     "image/png": "[encoded data removed]"
    }
   },
   "cell_type": "markdown",
   "metadata": {},
   "source": [
    "![image.png](attachment:image.png)"
   ]
  },
  {
   "cell_type": "code",
   "execution_count": 19,
   "metadata": {},
   "outputs": [],
   "source": [
    "def first_binomial_call(S, K, T, r, u, d, N):\n",
    "    \"\"\"\n",
    "    Implementation of binomial pricing model\n",
    "    \n",
    "    Parameters\n",
    "    ----------\n",
    "    S : float\n",
    "        stock price\n",
    "        \n",
    "    K : float\n",
    "        strike price\n",
    "        \n",
    "    T : float\n",
    "        expiry time in years\n",
    "        \n",
    "    r : float\n",
    "        risk free rate which could be taken out of the yield of US treasury bonds\n",
    "        \n",
    "    u : float\n",
    "        size of upfactor move\n",
    "        \n",
    "    d : float\n",
    "        size of downfactor move\n",
    "        \n",
    "    N : int\n",
    "        number of steps in binomial model\n",
    "        \n",
    "    Returns\n",
    "    -------\n",
    "    C : dict\n",
    "        the binary pricing model in the form of dictionary\n",
    "    \"\"\"\n",
    "    \n",
    "    dt = ______    #the time interval in years\n",
    "    p = _______    #risk neutral probability\n",
    "    C = {}\n",
    "    \n",
    "    #last column of the model (payoff of call)\n",
    "    for m in range(1, N+1):\n",
    "            C[(N, m)] = _____\n",
    "            \n",
    "    #moving backwards to calculate the call price\n",
    "    for k in range(N-1, 0, -1):\n",
    "        for m in range(1,k+1):\n",
    "            C[(k, m)] = ______\n",
    "    return C"
   ]
  },
  {
   "cell_type": "code",
   "execution_count": 20,
   "metadata": {},
   "outputs": [
    {
     "data": {
      "text/html": [
       "<div>\n",
       "<style scoped>\n",
       "    .dataframe tbody tr th:only-of-type {\n",
       "        vertical-align: middle;\n",
       "    }\n",
       "\n",
       "    .dataframe tbody tr th {\n",
       "        vertical-align: top;\n",
       "    }\n",
       "\n",
       "    .dataframe thead th {\n",
       "        text-align: right;\n",
       "    }\n",
       "</style>\n",
       "<table border=\"1\" class=\"dataframe\">\n",
       "  <thead>\n",
       "    <tr style=\"text-align: right;\">\n",
       "      <th></th>\n",
       "      <th>th_call</th>\n",
       "    </tr>\n",
       "  </thead>\n",
       "  <tbody>\n",
       "    <tr>\n",
       "      <th>65.0</th>\n",
       "      <td>65.777653</td>\n",
       "    </tr>\n",
       "    <tr>\n",
       "      <th>70.0</th>\n",
       "      <td>60.777653</td>\n",
       "    </tr>\n",
       "    <tr>\n",
       "      <th>75.0</th>\n",
       "      <td>55.777654</td>\n",
       "    </tr>\n",
       "    <tr>\n",
       "      <th>80.0</th>\n",
       "      <td>50.777654</td>\n",
       "    </tr>\n",
       "    <tr>\n",
       "      <th>85.0</th>\n",
       "      <td>45.777654</td>\n",
       "    </tr>\n",
       "  </tbody>\n",
       "</table>\n",
       "</div>"
      ],
      "text/plain": [
       "        th_call\n",
       "65.0  65.777653\n",
       "70.0  60.777653\n",
       "75.0  55.777654\n",
       "80.0  50.777654\n",
       "85.0  45.777654"
      ]
     },
     "execution_count": 20,
     "metadata": {},
     "output_type": "execute_result"
    }
   ],
   "source": [
    "#r is the risk free rate taken from the 10 years us treasury bond\n",
    "call = {}\n",
    "for K in dfo_exp.calls['strike']:\n",
    "    call_price = first_binomial_call(S = df['Close'][len(df)-1], K = K, T = T, r=0.0152*t, u = u, d =d, N=N)[(1, 1)]\n",
    "  # print(call_price)\n",
    "    call[K] = call_price\n",
    "th_call = pd.DataFrame.from_dict(call, orient='index')\n",
    "th_call.rename(columns = {0:\"th_call\"}, inplace = True)\n",
    "th_call.head()"
   ]
  },
  {
   "cell_type": "code",
   "execution_count": 21,
   "metadata": {},
   "outputs": [
    {
     "data": {
      "text/html": [
       "<div>\n",
       "<style scoped>\n",
       "    .dataframe tbody tr th:only-of-type {\n",
       "        vertical-align: middle;\n",
       "    }\n",
       "\n",
       "    .dataframe tbody tr th {\n",
       "        vertical-align: top;\n",
       "    }\n",
       "\n",
       "    .dataframe thead th {\n",
       "        text-align: right;\n",
       "    }\n",
       "</style>\n",
       "<table border=\"1\" class=\"dataframe\">\n",
       "  <thead>\n",
       "    <tr style=\"text-align: right;\">\n",
       "      <th></th>\n",
       "      <th>ac_call</th>\n",
       "    </tr>\n",
       "    <tr>\n",
       "      <th>strike</th>\n",
       "      <th></th>\n",
       "    </tr>\n",
       "  </thead>\n",
       "  <tbody>\n",
       "    <tr>\n",
       "      <th>65.0</th>\n",
       "      <td>65.75</td>\n",
       "    </tr>\n",
       "    <tr>\n",
       "      <th>70.0</th>\n",
       "      <td>60.96</td>\n",
       "    </tr>\n",
       "    <tr>\n",
       "      <th>75.0</th>\n",
       "      <td>52.01</td>\n",
       "    </tr>\n",
       "    <tr>\n",
       "      <th>80.0</th>\n",
       "      <td>48.81</td>\n",
       "    </tr>\n",
       "    <tr>\n",
       "      <th>85.0</th>\n",
       "      <td>45.60</td>\n",
       "    </tr>\n",
       "  </tbody>\n",
       "</table>\n",
       "</div>"
      ],
      "text/plain": [
       "        ac_call\n",
       "strike         \n",
       "65.0      65.75\n",
       "70.0      60.96\n",
       "75.0      52.01\n",
       "80.0      48.81\n",
       "85.0      45.60"
      ]
     },
     "execution_count": 21,
     "metadata": {},
     "output_type": "execute_result"
    }
   ],
   "source": [
    "ac_call = dfo_exp.calls.loc[:, ['strike', 'lastPrice']]\n",
    "ac_call.set_index('strike', inplace = True)\n",
    "ac_call.rename(columns = {\"lastPrice\":\"ac_call\"}, inplace=True)\n",
    "ac_call.head()"
   ]
  },
  {
   "cell_type": "code",
   "execution_count": 22,
   "metadata": {},
   "outputs": [
    {
     "data": {
      "text/html": [
       "<div>\n",
       "<style scoped>\n",
       "    .dataframe tbody tr th:only-of-type {\n",
       "        vertical-align: middle;\n",
       "    }\n",
       "\n",
       "    .dataframe tbody tr th {\n",
       "        vertical-align: top;\n",
       "    }\n",
       "\n",
       "    .dataframe thead th {\n",
       "        text-align: right;\n",
       "    }\n",
       "</style>\n",
       "<table border=\"1\" class=\"dataframe\">\n",
       "  <thead>\n",
       "    <tr style=\"text-align: right;\">\n",
       "      <th></th>\n",
       "      <th>th_call</th>\n",
       "      <th>ac_call</th>\n",
       "    </tr>\n",
       "  </thead>\n",
       "  <tbody>\n",
       "    <tr>\n",
       "      <th>65.0</th>\n",
       "      <td>65.777653</td>\n",
       "      <td>65.75</td>\n",
       "    </tr>\n",
       "    <tr>\n",
       "      <th>70.0</th>\n",
       "      <td>60.777653</td>\n",
       "      <td>60.96</td>\n",
       "    </tr>\n",
       "    <tr>\n",
       "      <th>75.0</th>\n",
       "      <td>55.777654</td>\n",
       "      <td>52.01</td>\n",
       "    </tr>\n",
       "    <tr>\n",
       "      <th>80.0</th>\n",
       "      <td>50.777654</td>\n",
       "      <td>48.81</td>\n",
       "    </tr>\n",
       "    <tr>\n",
       "      <th>85.0</th>\n",
       "      <td>45.777654</td>\n",
       "      <td>45.60</td>\n",
       "    </tr>\n",
       "    <tr>\n",
       "      <th>90.0</th>\n",
       "      <td>40.777655</td>\n",
       "      <td>37.33</td>\n",
       "    </tr>\n",
       "    <tr>\n",
       "      <th>95.0</th>\n",
       "      <td>35.777655</td>\n",
       "      <td>30.97</td>\n",
       "    </tr>\n",
       "    <tr>\n",
       "      <th>100.0</th>\n",
       "      <td>30.777655</td>\n",
       "      <td>30.42</td>\n",
       "    </tr>\n",
       "    <tr>\n",
       "      <th>105.0</th>\n",
       "      <td>25.777657</td>\n",
       "      <td>25.40</td>\n",
       "    </tr>\n",
       "    <tr>\n",
       "      <th>109.0</th>\n",
       "      <td>21.777735</td>\n",
       "      <td>22.76</td>\n",
       "    </tr>\n",
       "  </tbody>\n",
       "</table>\n",
       "</div>"
      ],
      "text/plain": [
       "         th_call  ac_call\n",
       "65.0   65.777653    65.75\n",
       "70.0   60.777653    60.96\n",
       "75.0   55.777654    52.01\n",
       "80.0   50.777654    48.81\n",
       "85.0   45.777654    45.60\n",
       "90.0   40.777655    37.33\n",
       "95.0   35.777655    30.97\n",
       "100.0  30.777655    30.42\n",
       "105.0  25.777657    25.40\n",
       "109.0  21.777735    22.76"
      ]
     },
     "execution_count": 22,
     "metadata": {},
     "output_type": "execute_result"
    }
   ],
   "source": [
    "call = th_call\n",
    "call[\"ac_call\"] = ac_call\n",
    "call.head(10)"
   ]
  },
  {
   "cell_type": "code",
   "execution_count": 23,
   "metadata": {},
   "outputs": [
    {
     "data": {
      "text/plain": [
       "<matplotlib.axes._subplots.AxesSubplot at 0x2a75427a048>"
      ]
     },
     "execution_count": 23,
     "metadata": {},
     "output_type": "execute_result"
    },
    {
     "data": {
      "image/png": "[encoded data removed]",
      "text/plain": [
       "<Figure size 432x288 with 1 Axes>"
      ]
     },
     "metadata": {
      "needs_background": "light"
     },
     "output_type": "display_data"
    }
   ],
   "source": [
    "call.plot()"
   ]
  },
  {
   "cell_type": "markdown",
   "metadata": {},
   "source": [
    "## Black-Scholes Model"
   ]
  },
  {
   "cell_type": "markdown",
   "metadata": {},
   "source": [
    "\\begin{equation*}\n",
    "C=SN(d1)−Ke^{−rt}N(d2)\\\\\n",
    "P=Ke^{−rt}N(-d2)-SN(-d1)\n",
    "\\end{equation*}"
   ]
  },
  {
   "cell_type": "markdown",
   "metadata": {},
   "source": [
    "\\begin{equation*}\n",
    "d1 = (ln(S/K) + (r+σ^2/2)t)/σ\\sqrt{t}\\\\\n",
    "d2 = d1 - σ\\sqrt{t}\n",
    "\\end{equation*}"
   ]
  },
  {
   "cell_type": "markdown",
   "metadata": {},
   "source": [
    "C : call option price<br/>\n",
    "P : Put option price<br/>\n",
    "S : Stock price<br/>\n",
    "K : Strike price<br/>\n",
    "r : risk free rate<br/>\n",
    "t : time of maturity in year<br/>\n",
    "N = Normal distribution"
   ]
  },
  {
   "cell_type": "code",
   "execution_count": 24,
   "metadata": {},
   "outputs": [],
   "source": [
    "def euro_vanilla(S, K, T, r, sigma, option = 'call'):\n",
    "    \"\"\"\n",
    "    To calculate options price with the help of black-scholes model\n",
    "    \n",
    "    Parameters\n",
    "    ----------\n",
    "    S : float\n",
    "        The price of the underlying\n",
    "    \n",
    "    K : float\n",
    "        Strike price of the option\n",
    "        \n",
    "    T : float\n",
    "        Time to expiry in years\n",
    "        \n",
    "    r : float\n",
    "        Risk free rate which can be taken as the US Treasury bond yield\n",
    "        \n",
    "    sigma : float\n",
    "        The annual volatility of the returns\n",
    "        \n",
    "    option : string\n",
    "        call for call option\n",
    "        put for put option\n",
    "    \n",
    "    Returns\n",
    "    -------\n",
    "    premium : float\n",
    "        The price of call or put option\n",
    "    \n",
    "    Hint\n",
    "    ----\n",
    "    You can use norm.cdf function of scipy.stats\n",
    "    to convert d1 into normal distribution.\n",
    "    \"\"\"\n",
    "    \n",
    "    \n",
    "    d1 = ________\n",
    "    d2 = ________\n",
    "    \n",
    "    if option == 'call':\n",
    "        premium = ______\n",
    "    if option == 'put':\n",
    "        premium =  _______\n",
    "        \n",
    "    return premium"
   ]
  },
  {
   "cell_type": "code",
   "execution_count": 25,
   "metadata": {},
   "outputs": [
    {
     "data": {
      "text/html": [
       "<div>\n",
       "<style scoped>\n",
       "    .dataframe tbody tr th:only-of-type {\n",
       "        vertical-align: middle;\n",
       "    }\n",
       "\n",
       "    .dataframe tbody tr th {\n",
       "        vertical-align: top;\n",
       "    }\n",
       "\n",
       "    .dataframe thead th {\n",
       "        text-align: right;\n",
       "    }\n",
       "</style>\n",
       "<table border=\"1\" class=\"dataframe\">\n",
       "  <thead>\n",
       "    <tr style=\"text-align: right;\">\n",
       "      <th></th>\n",
       "      <th>th_call</th>\n",
       "    </tr>\n",
       "  </thead>\n",
       "  <tbody>\n",
       "    <tr>\n",
       "      <th>65.0</th>\n",
       "      <td>65.149998</td>\n",
       "    </tr>\n",
       "    <tr>\n",
       "      <th>70.0</th>\n",
       "      <td>60.149998</td>\n",
       "    </tr>\n",
       "    <tr>\n",
       "      <th>75.0</th>\n",
       "      <td>55.149998</td>\n",
       "    </tr>\n",
       "    <tr>\n",
       "      <th>80.0</th>\n",
       "      <td>50.149999</td>\n",
       "    </tr>\n",
       "    <tr>\n",
       "      <th>85.0</th>\n",
       "      <td>45.149999</td>\n",
       "    </tr>\n",
       "  </tbody>\n",
       "</table>\n",
       "</div>"
      ],
      "text/plain": [
       "        th_call\n",
       "65.0  65.149998\n",
       "70.0  60.149998\n",
       "75.0  55.149998\n",
       "80.0  50.149999\n",
       "85.0  45.149999"
      ]
     },
     "execution_count": 25,
     "metadata": {},
     "output_type": "execute_result"
    }
   ],
   "source": [
    "#r is the risk free rate taken from the 10 years us treasury bond\n",
    "#Calculate call for each strike price as calculated for binomial pricing model\n",
    "call = {}\n",
    "\n",
    "\n",
    "\n",
    "\n",
    "th_call = pd.DataFrame.from_dict(call, orient='index')\n",
    "th_call.rename(columns = {0:\"th_call\"}, inplace = True)\n",
    "th_call.head()"
   ]
  },
  {
   "cell_type": "code",
   "execution_count": 26,
   "metadata": {},
   "outputs": [
    {
     "data": {
      "text/html": [
       "<div>\n",
       "<style scoped>\n",
       "    .dataframe tbody tr th:only-of-type {\n",
       "        vertical-align: middle;\n",
       "    }\n",
       "\n",
       "    .dataframe tbody tr th {\n",
       "        vertical-align: top;\n",
       "    }\n",
       "\n",
       "    .dataframe thead th {\n",
       "        text-align: right;\n",
       "    }\n",
       "</style>\n",
       "<table border=\"1\" class=\"dataframe\">\n",
       "  <thead>\n",
       "    <tr style=\"text-align: right;\">\n",
       "      <th></th>\n",
       "      <th>th_call</th>\n",
       "      <th>ac_call</th>\n",
       "    </tr>\n",
       "  </thead>\n",
       "  <tbody>\n",
       "    <tr>\n",
       "      <th>65.0</th>\n",
       "      <td>65.149998</td>\n",
       "      <td>65.75</td>\n",
       "    </tr>\n",
       "    <tr>\n",
       "      <th>70.0</th>\n",
       "      <td>60.149998</td>\n",
       "      <td>60.96</td>\n",
       "    </tr>\n",
       "    <tr>\n",
       "      <th>75.0</th>\n",
       "      <td>55.149998</td>\n",
       "      <td>52.01</td>\n",
       "    </tr>\n",
       "    <tr>\n",
       "      <th>80.0</th>\n",
       "      <td>50.149999</td>\n",
       "      <td>48.81</td>\n",
       "    </tr>\n",
       "    <tr>\n",
       "      <th>85.0</th>\n",
       "      <td>45.149999</td>\n",
       "      <td>45.60</td>\n",
       "    </tr>\n",
       "    <tr>\n",
       "      <th>90.0</th>\n",
       "      <td>40.149999</td>\n",
       "      <td>37.33</td>\n",
       "    </tr>\n",
       "    <tr>\n",
       "      <th>95.0</th>\n",
       "      <td>35.149999</td>\n",
       "      <td>30.97</td>\n",
       "    </tr>\n",
       "    <tr>\n",
       "      <th>100.0</th>\n",
       "      <td>30.150000</td>\n",
       "      <td>30.42</td>\n",
       "    </tr>\n",
       "    <tr>\n",
       "      <th>105.0</th>\n",
       "      <td>25.150005</td>\n",
       "      <td>25.40</td>\n",
       "    </tr>\n",
       "    <tr>\n",
       "      <th>109.0</th>\n",
       "      <td>21.150158</td>\n",
       "      <td>22.76</td>\n",
       "    </tr>\n",
       "  </tbody>\n",
       "</table>\n",
       "</div>"
      ],
      "text/plain": [
       "         th_call  ac_call\n",
       "65.0   65.149998    65.75\n",
       "70.0   60.149998    60.96\n",
       "75.0   55.149998    52.01\n",
       "80.0   50.149999    48.81\n",
       "85.0   45.149999    45.60\n",
       "90.0   40.149999    37.33\n",
       "95.0   35.149999    30.97\n",
       "100.0  30.150000    30.42\n",
       "105.0  25.150005    25.40\n",
       "109.0  21.150158    22.76"
      ]
     },
     "execution_count": 26,
     "metadata": {},
     "output_type": "execute_result"
    }
   ],
   "source": [
    "call = th_call\n",
    "call[\"ac_call\"] = ac_call\n",
    "call.head(10)"
   ]
  },
  {
   "cell_type": "code",
   "execution_count": 27,
   "metadata": {},
   "outputs": [
    {
     "data": {
      "text/plain": [
       "<matplotlib.axes._subplots.AxesSubplot at 0x2a7545f7908>"
      ]
     },
     "execution_count": 27,
     "metadata": {},
     "output_type": "execute_result"
    },
    {
     "data": {
      "image/png": "[encoded data removed]",
      "text/plain": [
       "<Figure size 432x288 with 1 Axes>"
      ]
     },
     "metadata": {
      "needs_background": "light"
     },
     "output_type": "display_data"
    }
   ],
   "source": [
    "call.plot()"
   ]
  },
  {
   "cell_type": "code",
   "execution_count": 28,
   "metadata": {},
   "outputs": [
    {
     "data": {
      "text/html": [
       "<div>\n",
       "<style scoped>\n",
       "    .dataframe tbody tr th:only-of-type {\n",
       "        vertical-align: middle;\n",
       "    }\n",
       "\n",
       "    .dataframe tbody tr th {\n",
       "        vertical-align: top;\n",
       "    }\n",
       "\n",
       "    .dataframe thead th {\n",
       "        text-align: right;\n",
       "    }\n",
       "</style>\n",
       "<table border=\"1\" class=\"dataframe\">\n",
       "  <thead>\n",
       "    <tr style=\"text-align: right;\">\n",
       "      <th></th>\n",
       "      <th>th_put</th>\n",
       "    </tr>\n",
       "  </thead>\n",
       "  <tbody>\n",
       "    <tr>\n",
       "      <th>65.0</th>\n",
       "      <td>4.968817e-48</td>\n",
       "    </tr>\n",
       "    <tr>\n",
       "      <th>70.0</th>\n",
       "      <td>8.874966e-39</td>\n",
       "    </tr>\n",
       "    <tr>\n",
       "      <th>75.0</th>\n",
       "      <td>4.423996e-31</td>\n",
       "    </tr>\n",
       "    <tr>\n",
       "      <th>80.0</th>\n",
       "      <td>1.120772e-24</td>\n",
       "    </tr>\n",
       "    <tr>\n",
       "      <th>85.0</th>\n",
       "      <td>2.321748e-19</td>\n",
       "    </tr>\n",
       "  </tbody>\n",
       "</table>\n",
       "</div>"
      ],
      "text/plain": [
       "            th_put\n",
       "65.0  4.968817e-48\n",
       "70.0  8.874966e-39\n",
       "75.0  4.423996e-31\n",
       "80.0  1.120772e-24\n",
       "85.0  2.321748e-19"
      ]
     },
     "execution_count": 28,
     "metadata": {},
     "output_type": "execute_result"
    }
   ],
   "source": [
    "#r is the risk free rate taken from the 10 years us treasury bond\n",
    "#Similarly calculate for put options\n",
    "put = {}\n",
    "\n",
    "\n",
    "\n",
    "\n",
    "\n",
    "th_put = pd.DataFrame.from_dict(put, orient='index')\n",
    "th_put.rename(columns = {0:\"th_put\"}, inplace = True)\n",
    "th_put.head()"
   ]
  },
  {
   "cell_type": "code",
   "execution_count": 29,
   "metadata": {},
   "outputs": [
    {
     "data": {
      "text/html": [
       "<div>\n",
       "<style scoped>\n",
       "    .dataframe tbody tr th:only-of-type {\n",
       "        vertical-align: middle;\n",
       "    }\n",
       "\n",
       "    .dataframe tbody tr th {\n",
       "        vertical-align: top;\n",
       "    }\n",
       "\n",
       "    .dataframe thead th {\n",
       "        text-align: right;\n",
       "    }\n",
       "</style>\n",
       "<table border=\"1\" class=\"dataframe\">\n",
       "  <thead>\n",
       "    <tr style=\"text-align: right;\">\n",
       "      <th></th>\n",
       "      <th>ac_put</th>\n",
       "    </tr>\n",
       "    <tr>\n",
       "      <th>strike</th>\n",
       "      <th></th>\n",
       "    </tr>\n",
       "  </thead>\n",
       "  <tbody>\n",
       "    <tr>\n",
       "      <th>65.0</th>\n",
       "      <td>0.02</td>\n",
       "    </tr>\n",
       "    <tr>\n",
       "      <th>70.0</th>\n",
       "      <td>0.02</td>\n",
       "    </tr>\n",
       "    <tr>\n",
       "      <th>75.0</th>\n",
       "      <td>0.01</td>\n",
       "    </tr>\n",
       "    <tr>\n",
       "      <th>80.0</th>\n",
       "      <td>0.01</td>\n",
       "    </tr>\n",
       "    <tr>\n",
       "      <th>85.0</th>\n",
       "      <td>0.02</td>\n",
       "    </tr>\n",
       "  </tbody>\n",
       "</table>\n",
       "</div>"
      ],
      "text/plain": [
       "        ac_put\n",
       "strike        \n",
       "65.0      0.02\n",
       "70.0      0.02\n",
       "75.0      0.01\n",
       "80.0      0.01\n",
       "85.0      0.02"
      ]
     },
     "execution_count": 29,
     "metadata": {},
     "output_type": "execute_result"
    }
   ],
   "source": [
    "ac_put = dfo_exp.puts.loc[:, ['strike', 'lastPrice']]\n",
    "ac_put.set_index('strike', inplace = True)\n",
    "ac_put.rename(columns = {\"lastPrice\":\"ac_put\"}, inplace=True)\n",
    "ac_put.head()"
   ]
  },
  {
   "cell_type": "code",
   "execution_count": 30,
   "metadata": {},
   "outputs": [
    {
     "data": {
      "text/html": [
       "<div>\n",
       "<style scoped>\n",
       "    .dataframe tbody tr th:only-of-type {\n",
       "        vertical-align: middle;\n",
       "    }\n",
       "\n",
       "    .dataframe tbody tr th {\n",
       "        vertical-align: top;\n",
       "    }\n",
       "\n",
       "    .dataframe thead th {\n",
       "        text-align: right;\n",
       "    }\n",
       "</style>\n",
       "<table border=\"1\" class=\"dataframe\">\n",
       "  <thead>\n",
       "    <tr style=\"text-align: right;\">\n",
       "      <th></th>\n",
       "      <th>th_put</th>\n",
       "      <th>ac_put</th>\n",
       "    </tr>\n",
       "  </thead>\n",
       "  <tbody>\n",
       "    <tr>\n",
       "      <th>140.0</th>\n",
       "      <td>10.033266</td>\n",
       "      <td>9.24</td>\n",
       "    </tr>\n",
       "    <tr>\n",
       "      <th>141.0</th>\n",
       "      <td>10.979901</td>\n",
       "      <td>9.29</td>\n",
       "    </tr>\n",
       "    <tr>\n",
       "      <th>142.0</th>\n",
       "      <td>11.940729</td>\n",
       "      <td>9.91</td>\n",
       "    </tr>\n",
       "    <tr>\n",
       "      <th>143.0</th>\n",
       "      <td>12.912446</td>\n",
       "      <td>17.95</td>\n",
       "    </tr>\n",
       "    <tr>\n",
       "      <th>145.0</th>\n",
       "      <td>14.878316</td>\n",
       "      <td>13.85</td>\n",
       "    </tr>\n",
       "    <tr>\n",
       "      <th>150.0</th>\n",
       "      <td>19.853053</td>\n",
       "      <td>17.94</td>\n",
       "    </tr>\n",
       "    <tr>\n",
       "      <th>155.0</th>\n",
       "      <td>24.850231</td>\n",
       "      <td>23.00</td>\n",
       "    </tr>\n",
       "    <tr>\n",
       "      <th>160.0</th>\n",
       "      <td>29.850010</td>\n",
       "      <td>29.61</td>\n",
       "    </tr>\n",
       "    <tr>\n",
       "      <th>165.0</th>\n",
       "      <td>34.849997</td>\n",
       "      <td>40.80</td>\n",
       "    </tr>\n",
       "    <tr>\n",
       "      <th>180.0</th>\n",
       "      <td>49.849996</td>\n",
       "      <td>49.25</td>\n",
       "    </tr>\n",
       "  </tbody>\n",
       "</table>\n",
       "</div>"
      ],
      "text/plain": [
       "          th_put  ac_put\n",
       "140.0  10.033266    9.24\n",
       "141.0  10.979901    9.29\n",
       "142.0  11.940729    9.91\n",
       "143.0  12.912446   17.95\n",
       "145.0  14.878316   13.85\n",
       "150.0  19.853053   17.94\n",
       "155.0  24.850231   23.00\n",
       "160.0  29.850010   29.61\n",
       "165.0  34.849997   40.80\n",
       "180.0  49.849996   49.25"
      ]
     },
     "execution_count": 30,
     "metadata": {},
     "output_type": "execute_result"
    }
   ],
   "source": [
    "put = th_put\n",
    "put[\"ac_put\"] = ac_put\n",
    "put.tail(10)"
   ]
  },
  {
   "cell_type": "code",
   "execution_count": 31,
   "metadata": {},
   "outputs": [
    {
     "data": {
      "text/plain": [
       "<matplotlib.axes._subplots.AxesSubplot at 0x2a754659f60>"
      ]
     },
     "execution_count": 31,
     "metadata": {},
     "output_type": "execute_result"
    },
    {
     "data": {
      "image/png": "[encoded data removed]",
      "text/plain": [
       "<Figure size 432x288 with 1 Axes>"
      ]
     },
     "metadata": {
      "needs_background": "light"
     },
     "output_type": "display_data"
    }
   ],
   "source": [
    "put.plot()"
   ]
  },
  {
   "cell_type": "markdown",
   "metadata": {},
   "source": [
    "## Put-call Parity"
   ]
  },
  {
   "cell_type": "markdown",
   "metadata": {},
   "source": [
    "\\begin{equation*}\n",
    "C + PV(K) = P + S\n",
    "\\end{equation*}"
   ]
  },
  {
   "cell_type": "markdown",
   "metadata": {},
   "source": [
    "C = price of the European call option <br/>\n",
    "PV(K) = the present value of the strike price (K), discounted from the value on the expiration date at the risk-free rate <br/>\n",
    "P = price of the European put<br/>\n",
    "S = spot price or the current market value of the underlying asset"
   ]
  },
  {
   "cell_type": "code",
   "execution_count": 32,
   "metadata": {},
   "outputs": [],
   "source": [
    "data = pd.concat([call, put], axis=1)"
   ]
  },
  {
   "cell_type": "code",
   "execution_count": 33,
   "metadata": {},
   "outputs": [
    {
     "data": {
      "text/html": [
       "<div>\n",
       "<style scoped>\n",
       "    .dataframe tbody tr th:only-of-type {\n",
       "        vertical-align: middle;\n",
       "    }\n",
       "\n",
       "    .dataframe tbody tr th {\n",
       "        vertical-align: top;\n",
       "    }\n",
       "\n",
       "    .dataframe thead th {\n",
       "        text-align: right;\n",
       "    }\n",
       "</style>\n",
       "<table border=\"1\" class=\"dataframe\">\n",
       "  <thead>\n",
       "    <tr style=\"text-align: right;\">\n",
       "      <th></th>\n",
       "      <th>th_call</th>\n",
       "      <th>ac_call</th>\n",
       "      <th>th_put</th>\n",
       "      <th>ac_put</th>\n",
       "    </tr>\n",
       "  </thead>\n",
       "  <tbody>\n",
       "    <tr>\n",
       "      <th>65.0</th>\n",
       "      <td>6.515000e+01</td>\n",
       "      <td>65.75</td>\n",
       "      <td>4.968817e-48</td>\n",
       "      <td>0.02</td>\n",
       "    </tr>\n",
       "    <tr>\n",
       "      <th>70.0</th>\n",
       "      <td>6.015000e+01</td>\n",
       "      <td>60.96</td>\n",
       "      <td>8.874966e-39</td>\n",
       "      <td>0.02</td>\n",
       "    </tr>\n",
       "    <tr>\n",
       "      <th>75.0</th>\n",
       "      <td>5.515000e+01</td>\n",
       "      <td>52.01</td>\n",
       "      <td>4.423996e-31</td>\n",
       "      <td>0.01</td>\n",
       "    </tr>\n",
       "    <tr>\n",
       "      <th>80.0</th>\n",
       "      <td>5.015000e+01</td>\n",
       "      <td>48.81</td>\n",
       "      <td>1.120772e-24</td>\n",
       "      <td>0.01</td>\n",
       "    </tr>\n",
       "    <tr>\n",
       "      <th>85.0</th>\n",
       "      <td>4.515000e+01</td>\n",
       "      <td>45.60</td>\n",
       "      <td>2.321748e-19</td>\n",
       "      <td>0.02</td>\n",
       "    </tr>\n",
       "    <tr>\n",
       "      <th>90.0</th>\n",
       "      <td>4.015000e+01</td>\n",
       "      <td>37.33</td>\n",
       "      <td>5.768608e-15</td>\n",
       "      <td>0.01</td>\n",
       "    </tr>\n",
       "    <tr>\n",
       "      <th>95.0</th>\n",
       "      <td>3.515000e+01</td>\n",
       "      <td>30.97</td>\n",
       "      <td>2.350824e-11</td>\n",
       "      <td>0.01</td>\n",
       "    </tr>\n",
       "    <tr>\n",
       "      <th>100.0</th>\n",
       "      <td>3.015000e+01</td>\n",
       "      <td>30.42</td>\n",
       "      <td>2.036820e-08</td>\n",
       "      <td>0.01</td>\n",
       "    </tr>\n",
       "    <tr>\n",
       "      <th>104.0</th>\n",
       "      <td>NaN</td>\n",
       "      <td>NaN</td>\n",
       "      <td>1.734852e-06</td>\n",
       "      <td>0.01</td>\n",
       "    </tr>\n",
       "    <tr>\n",
       "      <th>105.0</th>\n",
       "      <td>2.515000e+01</td>\n",
       "      <td>25.40</td>\n",
       "      <td>4.668544e-06</td>\n",
       "      <td>0.01</td>\n",
       "    </tr>\n",
       "    <tr>\n",
       "      <th>106.0</th>\n",
       "      <td>NaN</td>\n",
       "      <td>NaN</td>\n",
       "      <td>1.200302e-05</td>\n",
       "      <td>0.03</td>\n",
       "    </tr>\n",
       "    <tr>\n",
       "      <th>107.0</th>\n",
       "      <td>NaN</td>\n",
       "      <td>NaN</td>\n",
       "      <td>2.952489e-05</td>\n",
       "      <td>0.02</td>\n",
       "    </tr>\n",
       "    <tr>\n",
       "      <th>108.0</th>\n",
       "      <td>NaN</td>\n",
       "      <td>NaN</td>\n",
       "      <td>6.957587e-05</td>\n",
       "      <td>0.03</td>\n",
       "    </tr>\n",
       "    <tr>\n",
       "      <th>109.0</th>\n",
       "      <td>2.115016e+01</td>\n",
       "      <td>22.76</td>\n",
       "      <td>1.572795e-04</td>\n",
       "      <td>0.02</td>\n",
       "    </tr>\n",
       "    <tr>\n",
       "      <th>110.0</th>\n",
       "      <td>2.015034e+01</td>\n",
       "      <td>20.85</td>\n",
       "      <td>3.414968e-04</td>\n",
       "      <td>0.03</td>\n",
       "    </tr>\n",
       "    <tr>\n",
       "      <th>111.0</th>\n",
       "      <td>1.915071e+01</td>\n",
       "      <td>16.65</td>\n",
       "      <td>7.130983e-04</td>\n",
       "      <td>0.04</td>\n",
       "    </tr>\n",
       "    <tr>\n",
       "      <th>112.0</th>\n",
       "      <td>1.815143e+01</td>\n",
       "      <td>17.45</td>\n",
       "      <td>1.433827e-03</td>\n",
       "      <td>0.05</td>\n",
       "    </tr>\n",
       "    <tr>\n",
       "      <th>113.0</th>\n",
       "      <td>1.715278e+01</td>\n",
       "      <td>16.45</td>\n",
       "      <td>2.779430e-03</td>\n",
       "      <td>0.04</td>\n",
       "    </tr>\n",
       "    <tr>\n",
       "      <th>114.0</th>\n",
       "      <td>1.615520e+01</td>\n",
       "      <td>15.45</td>\n",
       "      <td>5.200503e-03</td>\n",
       "      <td>0.06</td>\n",
       "    </tr>\n",
       "    <tr>\n",
       "      <th>115.0</th>\n",
       "      <td>1.515940e+01</td>\n",
       "      <td>15.70</td>\n",
       "      <td>9.403231e-03</td>\n",
       "      <td>0.06</td>\n",
       "    </tr>\n",
       "    <tr>\n",
       "      <th>116.0</th>\n",
       "      <td>1.416645e+01</td>\n",
       "      <td>15.82</td>\n",
       "      <td>1.644963e-02</td>\n",
       "      <td>0.08</td>\n",
       "    </tr>\n",
       "    <tr>\n",
       "      <th>117.0</th>\n",
       "      <td>1.317787e+01</td>\n",
       "      <td>13.12</td>\n",
       "      <td>2.787289e-02</td>\n",
       "      <td>0.08</td>\n",
       "    </tr>\n",
       "    <tr>\n",
       "      <th>118.0</th>\n",
       "      <td>1.219580e+01</td>\n",
       "      <td>12.90</td>\n",
       "      <td>4.579837e-02</td>\n",
       "      <td>0.09</td>\n",
       "    </tr>\n",
       "    <tr>\n",
       "      <th>119.0</th>\n",
       "      <td>1.122306e+01</td>\n",
       "      <td>11.80</td>\n",
       "      <td>7.305528e-02</td>\n",
       "      <td>0.10</td>\n",
       "    </tr>\n",
       "    <tr>\n",
       "      <th>120.0</th>\n",
       "      <td>1.026326e+01</td>\n",
       "      <td>10.40</td>\n",
       "      <td>1.132597e-01</td>\n",
       "      <td>0.11</td>\n",
       "    </tr>\n",
       "    <tr>\n",
       "      <th>121.0</th>\n",
       "      <td>9.320848e+00</td>\n",
       "      <td>9.75</td>\n",
       "      <td>1.708475e-01</td>\n",
       "      <td>0.15</td>\n",
       "    </tr>\n",
       "    <tr>\n",
       "      <th>122.0</th>\n",
       "      <td>8.401037e+00</td>\n",
       "      <td>9.25</td>\n",
       "      <td>2.510357e-01</td>\n",
       "      <td>0.16</td>\n",
       "    </tr>\n",
       "    <tr>\n",
       "      <th>123.0</th>\n",
       "      <td>7.509702e+00</td>\n",
       "      <td>8.04</td>\n",
       "      <td>3.597005e-01</td>\n",
       "      <td>0.19</td>\n",
       "    </tr>\n",
       "    <tr>\n",
       "      <th>124.0</th>\n",
       "      <td>6.653164e+00</td>\n",
       "      <td>7.16</td>\n",
       "      <td>5.031633e-01</td>\n",
       "      <td>0.22</td>\n",
       "    </tr>\n",
       "    <tr>\n",
       "      <th>125.0</th>\n",
       "      <td>5.837897e+00</td>\n",
       "      <td>6.19</td>\n",
       "      <td>6.878960e-01</td>\n",
       "      <td>0.29</td>\n",
       "    </tr>\n",
       "    <tr>\n",
       "      <th>...</th>\n",
       "      <td>...</td>\n",
       "      <td>...</td>\n",
       "      <td>...</td>\n",
       "      <td>...</td>\n",
       "    </tr>\n",
       "    <tr>\n",
       "      <th>127.0</th>\n",
       "      <td>4.355652e+00</td>\n",
       "      <td>4.15</td>\n",
       "      <td>1.205651e+00</td>\n",
       "      <td>0.48</td>\n",
       "    </tr>\n",
       "    <tr>\n",
       "      <th>128.0</th>\n",
       "      <td>3.699074e+00</td>\n",
       "      <td>3.56</td>\n",
       "      <td>1.549072e+00</td>\n",
       "      <td>0.65</td>\n",
       "    </tr>\n",
       "    <tr>\n",
       "      <th>129.0</th>\n",
       "      <td>3.103876e+00</td>\n",
       "      <td>2.80</td>\n",
       "      <td>1.953875e+00</td>\n",
       "      <td>0.91</td>\n",
       "    </tr>\n",
       "    <tr>\n",
       "      <th>130.0</th>\n",
       "      <td>2.572002e+00</td>\n",
       "      <td>2.12</td>\n",
       "      <td>2.422001e+00</td>\n",
       "      <td>1.24</td>\n",
       "    </tr>\n",
       "    <tr>\n",
       "      <th>131.0</th>\n",
       "      <td>2.103781e+00</td>\n",
       "      <td>1.58</td>\n",
       "      <td>2.953780e+00</td>\n",
       "      <td>1.67</td>\n",
       "    </tr>\n",
       "    <tr>\n",
       "      <th>132.0</th>\n",
       "      <td>1.697938e+00</td>\n",
       "      <td>1.11</td>\n",
       "      <td>3.547936e+00</td>\n",
       "      <td>2.20</td>\n",
       "    </tr>\n",
       "    <tr>\n",
       "      <th>133.0</th>\n",
       "      <td>1.351724e+00</td>\n",
       "      <td>0.78</td>\n",
       "      <td>4.201722e+00</td>\n",
       "      <td>2.91</td>\n",
       "    </tr>\n",
       "    <tr>\n",
       "      <th>134.0</th>\n",
       "      <td>1.061146e+00</td>\n",
       "      <td>0.51</td>\n",
       "      <td>4.911144e+00</td>\n",
       "      <td>3.75</td>\n",
       "    </tr>\n",
       "    <tr>\n",
       "      <th>135.0</th>\n",
       "      <td>8.212605e-01</td>\n",
       "      <td>0.34</td>\n",
       "      <td>5.671259e+00</td>\n",
       "      <td>4.60</td>\n",
       "    </tr>\n",
       "    <tr>\n",
       "      <th>136.0</th>\n",
       "      <td>6.265041e-01</td>\n",
       "      <td>0.22</td>\n",
       "      <td>6.476502e+00</td>\n",
       "      <td>5.45</td>\n",
       "    </tr>\n",
       "    <tr>\n",
       "      <th>137.0</th>\n",
       "      <td>4.710229e-01</td>\n",
       "      <td>0.14</td>\n",
       "      <td>7.321021e+00</td>\n",
       "      <td>6.25</td>\n",
       "    </tr>\n",
       "    <tr>\n",
       "      <th>138.0</th>\n",
       "      <td>3.489725e-01</td>\n",
       "      <td>0.10</td>\n",
       "      <td>8.198971e+00</td>\n",
       "      <td>7.10</td>\n",
       "    </tr>\n",
       "    <tr>\n",
       "      <th>139.0</th>\n",
       "      <td>2.547672e-01</td>\n",
       "      <td>0.06</td>\n",
       "      <td>9.104765e+00</td>\n",
       "      <td>8.25</td>\n",
       "    </tr>\n",
       "    <tr>\n",
       "      <th>140.0</th>\n",
       "      <td>1.832679e-01</td>\n",
       "      <td>0.06</td>\n",
       "      <td>1.003327e+01</td>\n",
       "      <td>9.24</td>\n",
       "    </tr>\n",
       "    <tr>\n",
       "      <th>141.0</th>\n",
       "      <td>1.299033e-01</td>\n",
       "      <td>0.04</td>\n",
       "      <td>1.097990e+01</td>\n",
       "      <td>9.29</td>\n",
       "    </tr>\n",
       "    <tr>\n",
       "      <th>142.0</th>\n",
       "      <td>9.073147e-02</td>\n",
       "      <td>0.03</td>\n",
       "      <td>1.194073e+01</td>\n",
       "      <td>9.91</td>\n",
       "    </tr>\n",
       "    <tr>\n",
       "      <th>143.0</th>\n",
       "      <td>6.244857e-02</td>\n",
       "      <td>0.03</td>\n",
       "      <td>1.291245e+01</td>\n",
       "      <td>17.95</td>\n",
       "    </tr>\n",
       "    <tr>\n",
       "      <th>144.0</th>\n",
       "      <td>4.235911e-02</td>\n",
       "      <td>0.03</td>\n",
       "      <td>NaN</td>\n",
       "      <td>NaN</td>\n",
       "    </tr>\n",
       "    <tr>\n",
       "      <th>145.0</th>\n",
       "      <td>2.831859e-02</td>\n",
       "      <td>0.02</td>\n",
       "      <td>1.487832e+01</td>\n",
       "      <td>13.85</td>\n",
       "    </tr>\n",
       "    <tr>\n",
       "      <th>146.0</th>\n",
       "      <td>1.866145e-02</td>\n",
       "      <td>0.02</td>\n",
       "      <td>NaN</td>\n",
       "      <td>NaN</td>\n",
       "    </tr>\n",
       "    <tr>\n",
       "      <th>147.0</th>\n",
       "      <td>1.212334e-02</td>\n",
       "      <td>0.02</td>\n",
       "      <td>NaN</td>\n",
       "      <td>NaN</td>\n",
       "    </tr>\n",
       "    <tr>\n",
       "      <th>148.0</th>\n",
       "      <td>7.765376e-03</td>\n",
       "      <td>0.01</td>\n",
       "      <td>NaN</td>\n",
       "      <td>NaN</td>\n",
       "    </tr>\n",
       "    <tr>\n",
       "      <th>149.0</th>\n",
       "      <td>4.904900e-03</td>\n",
       "      <td>0.01</td>\n",
       "      <td>NaN</td>\n",
       "      <td>NaN</td>\n",
       "    </tr>\n",
       "    <tr>\n",
       "      <th>150.0</th>\n",
       "      <td>3.055581e-03</td>\n",
       "      <td>0.01</td>\n",
       "      <td>1.985305e+01</td>\n",
       "      <td>17.94</td>\n",
       "    </tr>\n",
       "    <tr>\n",
       "      <th>155.0</th>\n",
       "      <td>2.343948e-04</td>\n",
       "      <td>0.01</td>\n",
       "      <td>2.485023e+01</td>\n",
       "      <td>23.00</td>\n",
       "    </tr>\n",
       "    <tr>\n",
       "      <th>160.0</th>\n",
       "      <td>1.307089e-05</td>\n",
       "      <td>0.01</td>\n",
       "      <td>2.985001e+01</td>\n",
       "      <td>29.61</td>\n",
       "    </tr>\n",
       "    <tr>\n",
       "      <th>165.0</th>\n",
       "      <td>5.425345e-07</td>\n",
       "      <td>0.01</td>\n",
       "      <td>3.485000e+01</td>\n",
       "      <td>40.80</td>\n",
       "    </tr>\n",
       "    <tr>\n",
       "      <th>170.0</th>\n",
       "      <td>1.715861e-08</td>\n",
       "      <td>0.01</td>\n",
       "      <td>NaN</td>\n",
       "      <td>NaN</td>\n",
       "    </tr>\n",
       "    <tr>\n",
       "      <th>175.0</th>\n",
       "      <td>4.228591e-10</td>\n",
       "      <td>0.02</td>\n",
       "      <td>NaN</td>\n",
       "      <td>NaN</td>\n",
       "    </tr>\n",
       "    <tr>\n",
       "      <th>180.0</th>\n",
       "      <td>8.292675e-12</td>\n",
       "      <td>0.01</td>\n",
       "      <td>4.985000e+01</td>\n",
       "      <td>49.25</td>\n",
       "    </tr>\n",
       "  </tbody>\n",
       "</table>\n",
       "<p>61 rows × 4 columns</p>\n",
       "</div>"
      ],
      "text/plain": [
       "            th_call  ac_call        th_put  ac_put\n",
       "65.0   6.515000e+01    65.75  4.968817e-48    0.02\n",
       "70.0   6.015000e+01    60.96  8.874966e-39    0.02\n",
       "75.0   5.515000e+01    52.01  4.423996e-31    0.01\n",
       "80.0   5.015000e+01    48.81  1.120772e-24    0.01\n",
       "85.0   4.515000e+01    45.60  2.321748e-19    0.02\n",
       "90.0   4.015000e+01    37.33  5.768608e-15    0.01\n",
       "95.0   3.515000e+01    30.97  2.350824e-11    0.01\n",
       "100.0  3.015000e+01    30.42  2.036820e-08    0.01\n",
       "104.0           NaN      NaN  1.734852e-06    0.01\n",
       "105.0  2.515000e+01    25.40  4.668544e-06    0.01\n",
       "106.0           NaN      NaN  1.200302e-05    0.03\n",
       "107.0           NaN      NaN  2.952489e-05    0.02\n",
       "108.0           NaN      NaN  6.957587e-05    0.03\n",
       "109.0  2.115016e+01    22.76  1.572795e-04    0.02\n",
       "110.0  2.015034e+01    20.85  3.414968e-04    0.03\n",
       "111.0  1.915071e+01    16.65  7.130983e-04    0.04\n",
       "112.0  1.815143e+01    17.45  1.433827e-03    0.05\n",
       "113.0  1.715278e+01    16.45  2.779430e-03    0.04\n",
       "114.0  1.615520e+01    15.45  5.200503e-03    0.06\n",
       "115.0  1.515940e+01    15.70  9.403231e-03    0.06\n",
       "116.0  1.416645e+01    15.82  1.644963e-02    0.08\n",
       "117.0  1.317787e+01    13.12  2.787289e-02    0.08\n",
       "118.0  1.219580e+01    12.90  4.579837e-02    0.09\n",
       "119.0  1.122306e+01    11.80  7.305528e-02    0.10\n",
       "120.0  1.026326e+01    10.40  1.132597e-01    0.11\n",
       "121.0  9.320848e+00     9.75  1.708475e-01    0.15\n",
       "122.0  8.401037e+00     9.25  2.510357e-01    0.16\n",
       "123.0  7.509702e+00     8.04  3.597005e-01    0.19\n",
       "124.0  6.653164e+00     7.16  5.031633e-01    0.22\n",
       "125.0  5.837897e+00     6.19  6.878960e-01    0.29\n",
       "...             ...      ...           ...     ...\n",
       "127.0  4.355652e+00     4.15  1.205651e+00    0.48\n",
       "128.0  3.699074e+00     3.56  1.549072e+00    0.65\n",
       "129.0  3.103876e+00     2.80  1.953875e+00    0.91\n",
       "130.0  2.572002e+00     2.12  2.422001e+00    1.24\n",
       "131.0  2.103781e+00     1.58  2.953780e+00    1.67\n",
       "132.0  1.697938e+00     1.11  3.547936e+00    2.20\n",
       "133.0  1.351724e+00     0.78  4.201722e+00    2.91\n",
       "134.0  1.061146e+00     0.51  4.911144e+00    3.75\n",
       "135.0  8.212605e-01     0.34  5.671259e+00    4.60\n",
       "136.0  6.265041e-01     0.22  6.476502e+00    5.45\n",
       "137.0  4.710229e-01     0.14  7.321021e+00    6.25\n",
       "138.0  3.489725e-01     0.10  8.198971e+00    7.10\n",
       "139.0  2.547672e-01     0.06  9.104765e+00    8.25\n",
       "140.0  1.832679e-01     0.06  1.003327e+01    9.24\n",
       "141.0  1.299033e-01     0.04  1.097990e+01    9.29\n",
       "142.0  9.073147e-02     0.03  1.194073e+01    9.91\n",
       "143.0  6.244857e-02     0.03  1.291245e+01   17.95\n",
       "144.0  4.235911e-02     0.03           NaN     NaN\n",
       "145.0  2.831859e-02     0.02  1.487832e+01   13.85\n",
       "146.0  1.866145e-02     0.02           NaN     NaN\n",
       "147.0  1.212334e-02     0.02           NaN     NaN\n",
       "148.0  7.765376e-03     0.01           NaN     NaN\n",
       "149.0  4.904900e-03     0.01           NaN     NaN\n",
       "150.0  3.055581e-03     0.01  1.985305e+01   17.94\n",
       "155.0  2.343948e-04     0.01  2.485023e+01   23.00\n",
       "160.0  1.307089e-05     0.01  2.985001e+01   29.61\n",
       "165.0  5.425345e-07     0.01  3.485000e+01   40.80\n",
       "170.0  1.715861e-08     0.01           NaN     NaN\n",
       "175.0  4.228591e-10     0.02           NaN     NaN\n",
       "180.0  8.292675e-12     0.01  4.985000e+01   49.25\n",
       "\n",
       "[61 rows x 4 columns]"
      ]
     },
     "execution_count": 33,
     "metadata": {},
     "output_type": "execute_result"
    }
   ],
   "source": [
    "data"
   ]
  },
  {
   "cell_type": "code",
   "execution_count": 34,
   "metadata": {},
   "outputs": [],
   "source": [
    "data.dropna(inplace = True)"
   ]
  },
  {
   "cell_type": "code",
   "execution_count": 35,
   "metadata": {},
   "outputs": [
    {
     "data": {
      "text/html": [
       "<div>\n",
       "<style scoped>\n",
       "    .dataframe tbody tr th:only-of-type {\n",
       "        vertical-align: middle;\n",
       "    }\n",
       "\n",
       "    .dataframe tbody tr th {\n",
       "        vertical-align: top;\n",
       "    }\n",
       "\n",
       "    .dataframe thead th {\n",
       "        text-align: right;\n",
       "    }\n",
       "</style>\n",
       "<table border=\"1\" class=\"dataframe\">\n",
       "  <thead>\n",
       "    <tr style=\"text-align: right;\">\n",
       "      <th></th>\n",
       "      <th>th_call</th>\n",
       "      <th>ac_call</th>\n",
       "      <th>th_put</th>\n",
       "      <th>ac_put</th>\n",
       "    </tr>\n",
       "  </thead>\n",
       "  <tbody>\n",
       "    <tr>\n",
       "      <th>65.0</th>\n",
       "      <td>65.149998</td>\n",
       "      <td>65.75</td>\n",
       "      <td>4.968817e-48</td>\n",
       "      <td>0.02</td>\n",
       "    </tr>\n",
       "    <tr>\n",
       "      <th>70.0</th>\n",
       "      <td>60.149998</td>\n",
       "      <td>60.96</td>\n",
       "      <td>8.874966e-39</td>\n",
       "      <td>0.02</td>\n",
       "    </tr>\n",
       "    <tr>\n",
       "      <th>75.0</th>\n",
       "      <td>55.149998</td>\n",
       "      <td>52.01</td>\n",
       "      <td>4.423996e-31</td>\n",
       "      <td>0.01</td>\n",
       "    </tr>\n",
       "    <tr>\n",
       "      <th>80.0</th>\n",
       "      <td>50.149999</td>\n",
       "      <td>48.81</td>\n",
       "      <td>1.120772e-24</td>\n",
       "      <td>0.01</td>\n",
       "    </tr>\n",
       "    <tr>\n",
       "      <th>85.0</th>\n",
       "      <td>45.149999</td>\n",
       "      <td>45.60</td>\n",
       "      <td>2.321748e-19</td>\n",
       "      <td>0.02</td>\n",
       "    </tr>\n",
       "  </tbody>\n",
       "</table>\n",
       "</div>"
      ],
      "text/plain": [
       "        th_call  ac_call        th_put  ac_put\n",
       "65.0  65.149998    65.75  4.968817e-48    0.02\n",
       "70.0  60.149998    60.96  8.874966e-39    0.02\n",
       "75.0  55.149998    52.01  4.423996e-31    0.01\n",
       "80.0  50.149999    48.81  1.120772e-24    0.01\n",
       "85.0  45.149999    45.60  2.321748e-19    0.02"
      ]
     },
     "execution_count": 35,
     "metadata": {},
     "output_type": "execute_result"
    }
   ],
   "source": [
    "data.head()"
   ]
  },
  {
   "cell_type": "code",
   "execution_count": 36,
   "metadata": {},
   "outputs": [],
   "source": [
    "data[\"PV(K)\"] = data.index"
   ]
  },
  {
   "cell_type": "code",
   "execution_count": 37,
   "metadata": {},
   "outputs": [],
   "source": [
    "data[\"PV(K)\"] = data[\"PV(K)\"]*np.exp(-0.0152*t)"
   ]
  },
  {
   "cell_type": "code",
   "execution_count": 38,
   "metadata": {},
   "outputs": [],
   "source": [
    "data[\"Spot Price\"] = df[\"Close\"][len(df)-1]"
   ]
  },
  {
   "cell_type": "code",
   "execution_count": 39,
   "metadata": {},
   "outputs": [
    {
     "data": {
      "text/html": [
       "<div>\n",
       "<style scoped>\n",
       "    .dataframe tbody tr th:only-of-type {\n",
       "        vertical-align: middle;\n",
       "    }\n",
       "\n",
       "    .dataframe tbody tr th {\n",
       "        vertical-align: top;\n",
       "    }\n",
       "\n",
       "    .dataframe thead th {\n",
       "        text-align: right;\n",
       "    }\n",
       "</style>\n",
       "<table border=\"1\" class=\"dataframe\">\n",
       "  <thead>\n",
       "    <tr style=\"text-align: right;\">\n",
       "      <th></th>\n",
       "      <th>th_call</th>\n",
       "      <th>ac_call</th>\n",
       "      <th>th_put</th>\n",
       "      <th>ac_put</th>\n",
       "      <th>PV(K)</th>\n",
       "      <th>Spot Price</th>\n",
       "    </tr>\n",
       "  </thead>\n",
       "  <tbody>\n",
       "    <tr>\n",
       "      <th>65.0</th>\n",
       "      <td>65.149998</td>\n",
       "      <td>65.75</td>\n",
       "      <td>4.968817e-48</td>\n",
       "      <td>0.02</td>\n",
       "      <td>64.999803</td>\n",
       "      <td>130.149994</td>\n",
       "    </tr>\n",
       "    <tr>\n",
       "      <th>70.0</th>\n",
       "      <td>60.149998</td>\n",
       "      <td>60.96</td>\n",
       "      <td>8.874966e-39</td>\n",
       "      <td>0.02</td>\n",
       "      <td>69.999788</td>\n",
       "      <td>130.149994</td>\n",
       "    </tr>\n",
       "    <tr>\n",
       "      <th>75.0</th>\n",
       "      <td>55.149998</td>\n",
       "      <td>52.01</td>\n",
       "      <td>4.423996e-31</td>\n",
       "      <td>0.01</td>\n",
       "      <td>74.999773</td>\n",
       "      <td>130.149994</td>\n",
       "    </tr>\n",
       "    <tr>\n",
       "      <th>80.0</th>\n",
       "      <td>50.149999</td>\n",
       "      <td>48.81</td>\n",
       "      <td>1.120772e-24</td>\n",
       "      <td>0.01</td>\n",
       "      <td>79.999758</td>\n",
       "      <td>130.149994</td>\n",
       "    </tr>\n",
       "    <tr>\n",
       "      <th>85.0</th>\n",
       "      <td>45.149999</td>\n",
       "      <td>45.60</td>\n",
       "      <td>2.321748e-19</td>\n",
       "      <td>0.02</td>\n",
       "      <td>84.999742</td>\n",
       "      <td>130.149994</td>\n",
       "    </tr>\n",
       "  </tbody>\n",
       "</table>\n",
       "</div>"
      ],
      "text/plain": [
       "        th_call  ac_call        th_put  ac_put      PV(K)  Spot Price\n",
       "65.0  65.149998    65.75  4.968817e-48    0.02  64.999803  130.149994\n",
       "70.0  60.149998    60.96  8.874966e-39    0.02  69.999788  130.149994\n",
       "75.0  55.149998    52.01  4.423996e-31    0.01  74.999773  130.149994\n",
       "80.0  50.149999    48.81  1.120772e-24    0.01  79.999758  130.149994\n",
       "85.0  45.149999    45.60  2.321748e-19    0.02  84.999742  130.149994"
      ]
     },
     "execution_count": 39,
     "metadata": {},
     "output_type": "execute_result"
    }
   ],
   "source": [
    "data.head()"
   ]
  },
  {
   "cell_type": "code",
   "execution_count": 40,
   "metadata": {},
   "outputs": [],
   "source": [
    "put_call_parity = _________   #Calculate put call parity fortheoretical prices"
   ]
  },
  {
   "cell_type": "code",
   "execution_count": 41,
   "metadata": {},
   "outputs": [
    {
     "data": {
      "text/plain": [
       "<matplotlib.axes._subplots.AxesSubplot at 0x2a7546c1b38>"
      ]
     },
     "execution_count": 41,
     "metadata": {},
     "output_type": "execute_result"
    },
    {
     "data": {
      "image/png": "[encoded data removed]",
      "text/plain": [
       "<Figure size 432x288 with 1 Axes>"
      ]
     },
     "metadata": {
      "needs_background": "light"
     },
     "output_type": "display_data"
    }
   ],
   "source": [
    "put_call_parity.plot()"
   ]
  },
  {
   "cell_type": "code",
   "execution_count": 42,
   "metadata": {},
   "outputs": [],
   "source": [
    "put_call_parity =  ________  #Calculate put call parity for actual prices"
   ]
  },
  {
   "cell_type": "code",
   "execution_count": 43,
   "metadata": {},
   "outputs": [
    {
     "data": {
      "text/plain": [
       "<matplotlib.axes._subplots.AxesSubplot at 0x2a75473d400>"
      ]
     },
     "execution_count": 43,
     "metadata": {},
     "output_type": "execute_result"
    },
    {
     "data": {
      "image/png": "[encoded data removed]",
      "text/plain": [
       "<Figure size 432x288 with 1 Axes>"
      ]
     },
     "metadata": {
      "needs_background": "light"
     },
     "output_type": "display_data"
    }
   ],
   "source": [
    "put_call_parity.plot()"
   ]
  },
  {
   "cell_type": "markdown",
   "metadata": {},
   "source": [
    "The put-call parity in the actual market may not hold good because of the difference in supply and demand thus opening up the arbitrage opportunity for the traders. But this oppportunity is for very low time and mostly occurs in less volume options, i.e., deep in the money or deep out of money options."
   ]
  },
  {
   "source": [
    "## Calculate Delta of At The Money Call option using Black Scholes Model"
   ],
   "cell_type": "markdown",
   "metadata": {}
  },
  {
   "cell_type": "code",
   "execution_count": null,
   "metadata": {},
   "outputs": [],
   "source": [
    "# write your code here"
   ]
  }
 ],
 "metadata": {
  "kernelspec": {
   "display_name": "Python 3",
   "language": "python",
   "name": "python3"
  },
  "language_info": {
   "codemirror_mode": {
    "name": "ipython",
    "version": 3
   },
   "file_extension": ".py",
   "mimetype": "text/x-python",
   "name": "python",
   "nbconvert_exporter": "python",
   "pygments_lexer": "ipython3",
   "version": "3.7.3"
  }
 },
 "nbformat": 4,
 "nbformat_minor": 2
}